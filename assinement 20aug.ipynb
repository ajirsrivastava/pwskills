{
 "cells": [
  {
   "cell_type": "code",
   "execution_count": 1,
   "id": "d288eaec-35d6-4215-ad56-0009afee39c5",
   "metadata": {},
   "outputs": [],
   "source": [
    "#1. Write a program to reverse a string."
   ]
  },
  {
   "cell_type": "code",
   "execution_count": 5,
   "id": "0d7e05eb-8da2-4d53-82a0-756803a615b2",
   "metadata": {},
   "outputs": [
    {
     "name": "stdout",
     "output_type": "stream",
     "text": [
      "avatsavirs rija\n"
     ]
    }
   ],
   "source": [
    "a = (\"ajir srivastava\")\n",
    "print(a[::-1])"
   ]
  },
  {
   "cell_type": "code",
   "execution_count": 8,
   "id": "3bd0a5f2-50e1-463b-9248-956439562906",
   "metadata": {},
   "outputs": [],
   "source": [
    "#2. Check if a string is a palindrome.\n"
   ]
  },
  {
   "cell_type": "code",
   "execution_count": null,
   "id": "86800db5-7774-4f7b-b3a5-d9c15dc9b0bc",
   "metadata": {},
   "outputs": [],
   "source": [
    "string = \"GeekforGeeks!\"\n",
    "vowels = \"aeiouAEIOU\"\n",
    " \n",
    "count = sum(string.count(vowel) for vowel in vowels)\n",
    "print(count)"
   ]
  },
  {
   "cell_type": "code",
   "execution_count": null,
   "id": "3f80f612-05f9-499c-87e8-35cba8b891d1",
   "metadata": {},
   "outputs": [],
   "source": [
    "#3. Convert a string to uppercase."
   ]
  },
  {
   "cell_type": "code",
   "execution_count": 11,
   "id": "4ba2656b-5369-4651-a9a8-880970a63308",
   "metadata": {},
   "outputs": [
    {
     "data": {
      "text/plain": [
       "'my name is ajir srivastava'"
      ]
     },
     "execution_count": 11,
     "metadata": {},
     "output_type": "execute_result"
    }
   ],
   "source": [
    "b = \"my name is ajir srivastava\"\n",
    "b.lower()\n"
   ]
  },
  {
   "cell_type": "code",
   "execution_count": null,
   "id": "40758cbf-9cb8-4117-916b-f8af930fc208",
   "metadata": {},
   "outputs": [],
   "source": [
    "#4. Convert a string to lowercase.\n"
   ]
  },
  {
   "cell_type": "code",
   "execution_count": 12,
   "id": "bb036ab6-b2ed-45c0-9679-31876d75e086",
   "metadata": {},
   "outputs": [
    {
     "data": {
      "text/plain": [
       "'MY NAME IS BITTU SRIVASTAVA'"
      ]
     },
     "execution_count": 12,
     "metadata": {},
     "output_type": "execute_result"
    }
   ],
   "source": [
    "c = \"my name is bittu srivastava\"\n",
    "c.upper()"
   ]
  },
  {
   "cell_type": "code",
   "execution_count": 19,
   "id": "a8b3ac83-c493-42c8-9f78-47e80ef0a854",
   "metadata": {},
   "outputs": [],
   "source": [
    "#5. Count the number of vowels in a string.\n"
   ]
  },
  {
   "cell_type": "code",
   "execution_count": 21,
   "id": "58c64165-1f80-47f8-8542-d71563914d4f",
   "metadata": {},
   "outputs": [
    {
     "name": "stdout",
     "output_type": "stream",
     "text": [
      "6\n"
     ]
    }
   ],
   "source": [
    "string = \"pwskills data science\"\n",
    "vowels = \"aeiouAEIOU\"\n",
    " \n",
    "count = sum(string.count(vowel) for vowel in vowels)\n",
    "print(count)"
   ]
  },
  {
   "cell_type": "code",
   "execution_count": 22,
   "id": "5509eb78-4879-46fb-9494-1c2b89c028ab",
   "metadata": {},
   "outputs": [],
   "source": [
    "# 7.Remove all whitespaces from a string."
   ]
  },
  {
   "cell_type": "code",
   "execution_count": 32,
   "id": "5240fe6f-b6fa-4b2f-8de6-b5124cfde90c",
   "metadata": {},
   "outputs": [
    {
     "name": "stdout",
     "output_type": "stream",
     "text": [
      "The string with whitespace removed: 'Hello,World!'\n"
     ]
    }
   ],
   "source": [
    "def remove_whitespace(s):\n",
    "    return s.replace(\" \", \"\")\n",
    "\n",
    "# Example usage:\n",
    "input_string = \"Hello, World!\"\n",
    "result = remove_whitespace(input_string)\n",
    "\n",
    "print(f\"The string with whitespace removed: '{result}'\")"
   ]
  },
  {
   "cell_type": "code",
   "execution_count": 33,
   "id": "7c8440cf-3e1f-455a-aea9-091fb3e3fd8e",
   "metadata": {},
   "outputs": [],
   "source": [
    "#8. Find the length of a string without using the `len()` function."
   ]
  },
  {
   "cell_type": "code",
   "execution_count": 34,
   "id": "0e54e276-4c92-4796-944d-13769af449bf",
   "metadata": {},
   "outputs": [
    {
     "name": "stdout",
     "output_type": "stream",
     "text": [
      "The length of the string is 13.\n"
     ]
    }
   ],
   "source": [
    "def string_length(s):\n",
    "    count = 0\n",
    "    for _ in s:\n",
    "        count += 1\n",
    "    return count\n",
    "\n",
    "# Example usage:\n",
    "input_string = \"Hello, World!\"\n",
    "result = string_length(input_string)\n",
    "\n",
    "print(f\"The length of the string is {result}.\")"
   ]
  },
  {
   "cell_type": "code",
   "execution_count": 35,
   "id": "6dc08a15-6172-4d5d-962a-5f81980d108b",
   "metadata": {},
   "outputs": [],
   "source": [
    "#9. Check if a string contains a specific word."
   ]
  },
  {
   "cell_type": "code",
   "execution_count": 42,
   "id": "c400f033-7a17-4559-b1c7-d1aec7be10f7",
   "metadata": {},
   "outputs": [
    {
     "data": {
      "text/plain": [
       "2"
      ]
     },
     "execution_count": 42,
     "metadata": {},
     "output_type": "execute_result"
    }
   ],
   "source": [
    "q = \"what are you doing\"\n",
    "q.find(\"a\")\n"
   ]
  },
  {
   "cell_type": "code",
   "execution_count": 37,
   "id": "9bb93760-6742-4ed1-b30b-d79685bf10b4",
   "metadata": {},
   "outputs": [],
   "source": [
    "#10. Replace a word in a string with another word."
   ]
  },
  {
   "cell_type": "code",
   "execution_count": 47,
   "id": "14e2ee17-b931-4516-bb3e-c3b63c69799f",
   "metadata": {},
   "outputs": [
    {
     "data": {
      "text/plain": [
       "'rjir '"
      ]
     },
     "execution_count": 47,
     "metadata": {},
     "output_type": "execute_result"
    }
   ],
   "source": [
    "e = \"ajir \"\n",
    "e.replace('a','r')"
   ]
  },
  {
   "cell_type": "code",
   "execution_count": 8,
   "id": "fea18e5a-8214-4cbe-8471-9730a034545e",
   "metadata": {},
   "outputs": [],
   "source": [
    "#12. Find the first occurrence of a word in a string"
   ]
  },
  {
   "cell_type": "code",
   "execution_count": 9,
   "id": "cdc1b59b-23b8-4565-af80-ffbe87bf5d5d",
   "metadata": {},
   "outputs": [],
   "source": [
    "aj = \"ajir srivastava using pw lab\""
   ]
  },
  {
   "cell_type": "code",
   "execution_count": 13,
   "id": "c43bc0ec-fe1b-4c29-a574-493a0a2e7a29",
   "metadata": {},
   "outputs": [
    {
     "data": {
      "text/plain": [
       "0"
      ]
     },
     "execution_count": 13,
     "metadata": {},
     "output_type": "execute_result"
    }
   ],
   "source": [
    "aj.find(\"a\")"
   ]
  },
  {
   "cell_type": "code",
   "execution_count": null,
   "id": "e933ff77-ad85-4cf2-8214-be243fbc2c07",
   "metadata": {},
   "outputs": [],
   "source": [
    "#13.Find the last occurrence of a word in a string"
   ]
  },
  {
   "cell_type": "code",
   "execution_count": 14,
   "id": "cae0b0bc-2546-4869-ba00-7b422494eb64",
   "metadata": {},
   "outputs": [
    {
     "data": {
      "text/plain": [
       "3"
      ]
     },
     "execution_count": 14,
     "metadata": {},
     "output_type": "execute_result"
    }
   ],
   "source": [
    "an = \"ajir srivastava using pw lab\"\n",
    "an.find(\"r\")\n"
   ]
  },
  {
   "cell_type": "code",
   "execution_count": 1,
   "id": "f583f286-0683-4ba7-86a6-8b9fc2deaaf8",
   "metadata": {},
   "outputs": [],
   "source": [
    "#14. Split a string into a list of words"
   ]
  },
  {
   "cell_type": "code",
   "execution_count": 2,
   "id": "b694de26-ccf6-4d33-a7c7-d9707a676c3f",
   "metadata": {},
   "outputs": [
    {
     "name": "stdout",
     "output_type": "stream",
     "text": [
      "list of words: ['this', 'is', 'example']\n"
     ]
    }
   ],
   "source": [
    "def split_string_into_words(text):\n",
    "    words_list = text.split()\n",
    "    return words_list\n",
    "\n",
    "text = \"this is example\"\n",
    "words = split_string_into_words(text)\n",
    "print(\"list of words:\",words)"
   ]
  },
  {
   "cell_type": "code",
   "execution_count": 15,
   "id": "b73014dc-6c08-4fd9-8d77-f4c7f11e36fa",
   "metadata": {},
   "outputs": [],
   "source": [
    "#15. Join a list of words into a string"
   ]
  },
  {
   "cell_type": "code",
   "execution_count": 16,
   "id": "0d0e3a24-998f-45d9-973e-3a6c460236d4",
   "metadata": {},
   "outputs": [
    {
     "name": "stdout",
     "output_type": "stream",
     "text": [
      "This is a list of words\n"
     ]
    }
   ],
   "source": [
    "word_list = [\"This\", \"is\", \"a\", \"list\", \"of\", \"words\"]\n",
    "\n",
    "# Join the words into a string using a space as the separator\n",
    "result_string = \" \".join(word_list)\n",
    "\n",
    "print(result_string)"
   ]
  },
  {
   "cell_type": "code",
   "execution_count": null,
   "id": "df0bd9dc-bf0a-44fc-a300-2350871b5b43",
   "metadata": {},
   "outputs": [],
   "source": [
    "#16.convert a string where words are seprated by spaces to one where\n",
    "#words are seprated by underscores"
   ]
  },
  {
   "cell_type": "code",
   "execution_count": 4,
   "id": "6e33fb1e-62a8-428a-b83e-96fbcb3dc201",
   "metadata": {},
   "outputs": [
    {
     "name": "stdout",
     "output_type": "stream",
     "text": [
      "Converted text: my_name_is_ajir_srivastava.\n"
     ]
    }
   ],
   "source": [
    "def convert_to_underscore_separated(text):\n",
    "    \n",
    "    underscore_separated = text.replace(\" \", \"_\")\n",
    "\n",
    "    \n",
    "    return underscore_separated\n",
    "\n",
    "\n",
    "text = \"my name is ajir srivastava.\"\n",
    "converted_text = convert_to_underscore_separated(text)\n",
    "print(\"Converted text:\", converted_text)"
   ]
  },
  {
   "cell_type": "code",
   "execution_count": null,
   "id": "f04e0878-09c5-456b-8b0e-579f8324572b",
   "metadata": {},
   "outputs": [],
   "source": [
    "#check if the string  where words are seprated by spaces to one where words are seprated by underscores"
   ]
  },
  {
   "cell_type": "code",
   "execution_count": 12,
   "id": "4e8dc696-e999-4c45-b6ab-ebd02f7e4b69",
   "metadata": {},
   "outputs": [
    {
     "name": "stdout",
     "output_type": "stream",
     "text": [
      "the text start with the prefix\n"
     ]
    }
   ],
   "source": [
    "def starts_with(text,prefix):\n",
    "    is_start = text.startswith(prefix)\n",
    "    return is_start\n",
    "text = \"hello, ajir!\"\n",
    "prefix = \"hello\"\n",
    "result = starts_with(text,prefix)\n",
    "if result:\n",
    "    print(\"the text start with the prefix\")\n",
    "else:\n",
    "    print(\"the text does not start with the prefix\")"
   ]
  },
  {
   "cell_type": "code",
   "execution_count": 17,
   "id": "a5355115-b1a1-4b13-b2a7-0f2ac3b183e1",
   "metadata": {},
   "outputs": [],
   "source": [
    "#17.Convert a string to title case (e.g., \"hello world\" to \"Hello World\")"
   ]
  },
  {
   "cell_type": "code",
   "execution_count": 13,
   "id": "74c23269-6c87-48d4-bc8e-5f3b9cb459a9",
   "metadata": {},
   "outputs": [
    {
     "name": "stdout",
     "output_type": "stream",
     "text": [
      "Converted text: This_is_an_example_sentence.\n"
     ]
    }
   ],
   "source": [
    "def convert_to_underscore_separated(text):\n",
    "    # Step 1: Use the replace() method to replace spaces with underscores.\n",
    "    underscore_separated = text.replace(\" \", \"_\")\n",
    "\n",
    "    # Step 2: Return the converted string.\n",
    "    return underscore_separated\n",
    "\n",
    "# Example usage\n",
    "text = \"This is an example sentence.\"\n",
    "converted_text = convert_to_underscore_separated(text)\n",
    "print(\"Converted text:\", converted_text)"
   ]
  },
  {
   "cell_type": "code",
   "execution_count": null,
   "id": "566817c4-98b9-47a2-bf9d-05734d9e324e",
   "metadata": {},
   "outputs": [],
   "source": [
    "#18.check if a string ends with a specific word or phrase."
   ]
  },
  {
   "cell_type": "code",
   "execution_count": 14,
   "id": "5a40c1ac-904d-4486-bda5-b8672f2fdf36",
   "metadata": {},
   "outputs": [
    {
     "name": "stdout",
     "output_type": "stream",
     "text": [
      "The text ends with the suffix.\n"
     ]
    }
   ],
   "source": [
    "def ends_with(text, suffix):\n",
    "    # Step 1: Use the endswith() method to check if the text ends with the specified suffix.\n",
    "    is_end = text.endswith(suffix)\n",
    "\n",
    "    # Step 2: Return the result of the check.\n",
    "    return is_end\n",
    "\n",
    "# Example usage\n",
    "text = \"Hello, world!\"\n",
    "suffix = \"world!\"\n",
    "result = ends_with(text, suffix)\n",
    "if result:\n",
    "    print(\"The text ends with the suffix.\")\n",
    "else:\n",
    "    print(\"The text does not end with the suffix.\")"
   ]
  },
  {
   "cell_type": "code",
   "execution_count": 20,
   "id": "baf51e20-c413-40bd-ad26-bea03f8c3379",
   "metadata": {},
   "outputs": [],
   "source": [
    "#19.Convert a string to title case (e.g., \"hello world\" to \"Hello World\")"
   ]
  },
  {
   "cell_type": "code",
   "execution_count": 16,
   "id": "fec3ca3e-5682-41b3-a28e-7ed5914b205c",
   "metadata": {},
   "outputs": [
    {
     "name": "stdout",
     "output_type": "stream",
     "text": [
      "Title case: Hello World\n"
     ]
    }
   ],
   "source": [
    "def convert_to_title_case(text):\n",
    "    # Step 1: Use the title() method to convert the text to title case.\n",
    "    title_case_text = text.title()\n",
    "\n",
    "    # Step 2: Return the converted text.\n",
    "    return title_case_text\n",
    "\n",
    "# Example usage\n",
    "text = \"hello world\"\n",
    "title_case_result = convert_to_title_case(text)\n",
    "print(\"Title case:\", title_case_result)"
   ]
  },
  {
   "cell_type": "code",
   "execution_count": null,
   "id": "22a8fb79-25c8-4ca4-b302-67bd8b672b94",
   "metadata": {},
   "outputs": [],
   "source": [
    "#20. Find the longest word in a string"
   ]
  },
  {
   "cell_type": "code",
   "execution_count": 18,
   "id": "4e62ccd7-6de9-4ba8-8891-253d6060b563",
   "metadata": {},
   "outputs": [
    {
     "name": "stdout",
     "output_type": "stream",
     "text": [
      "longest word apple\n"
     ]
    }
   ],
   "source": [
    "def find_longest_word(text):\n",
    "    words = text.split()\n",
    "    longest_word = \"\"\n",
    "    max_length = 0\n",
    "    \n",
    "    for word in words:\n",
    "        if len(word)> max_length:\n",
    "            max_length = len(word)\n",
    "            longest_word = word\n",
    "    return longest_word\n",
    "text = \"this is an apple with some long words\"\n",
    "longest_word = find_longest_word(text)\n",
    "print(\"longest word\",longest_word)"
   ]
  },
  {
   "cell_type": "code",
   "execution_count": null,
   "id": "5e5ddaad-14bf-46c3-89a4-5572633f93f8",
   "metadata": {},
   "outputs": [],
   "source": [
    "#21.Find the shortest word in a string"
   ]
  },
  {
   "cell_type": "code",
   "execution_count": 20,
   "id": "97fd8098-146c-429b-be15-76195556d4ac",
   "metadata": {},
   "outputs": [
    {
     "name": "stdout",
     "output_type": "stream",
     "text": [
      "shortest word words\n"
     ]
    }
   ],
   "source": [
    "def find_shortest_word(text):\n",
    "    words = text.split()\n",
    "    shortest_word = \"\"\n",
    "    min_length = 0\n",
    "    \n",
    "    for word in words:\n",
    "        if len(word)> min_length:\n",
    "            min_length = len(word)\n",
    "            shortest_word = word\n",
    "    return shortest_word\n",
    "text = \"this is a boy with some long words\"\n",
    "shortest_word = find_shortest_word(text)\n",
    "print(\"shortest word\",shortest_word)"
   ]
  },
  {
   "cell_type": "code",
   "execution_count": 29,
   "id": "925516ce-7f4b-427b-8d5c-a14fd314c1f5",
   "metadata": {},
   "outputs": [],
   "source": [
    "# Reverse the order of words in a string.\n"
   ]
  },
  {
   "cell_type": "code",
   "execution_count": 31,
   "id": "553fb51e-e85f-4f88-8c80-0bd047f4e0d1",
   "metadata": {},
   "outputs": [
    {
     "data": {
      "text/plain": [
       "'sllikswp'"
      ]
     },
     "execution_count": 31,
     "metadata": {},
     "output_type": "execute_result"
    }
   ],
   "source": [
    "z1 = 'pwskills'\n",
    "z1[::-1]"
   ]
  },
  {
   "cell_type": "code",
   "execution_count": 32,
   "id": "486a4c06-2b36-4ba6-b8ef-4107f981db50",
   "metadata": {},
   "outputs": [],
   "source": [
    "#23.Check if a string is alphanumeric."
   ]
  },
  {
   "cell_type": "code",
   "execution_count": 21,
   "id": "e6ee4892-8681-4c33-a20c-808a72231ee8",
   "metadata": {},
   "outputs": [
    {
     "name": "stdout",
     "output_type": "stream",
     "text": [
      "The string is alphanumeric.\n"
     ]
    }
   ],
   "source": [
    "def is_alphanumeric(text):\n",
    "    # Step 1: Use the isalnum() method to check if the string is alphanumeric.\n",
    "    return text.isalnum()\n",
    "\n",
    "# Example usage\n",
    "text = \"Hello123\"\n",
    "result = is_alphanumeric(text)\n",
    "if result:\n",
    "    print(\"The string is alphanumeric.\")\n",
    "else:\n",
    "    print(\"The string is not alphanumeric.\")"
   ]
  },
  {
   "cell_type": "code",
   "execution_count": null,
   "id": "ae5a2ffb-2706-4b89-96da-e465a4e1c3bf",
   "metadata": {},
   "outputs": [],
   "source": [
    "#24. extract all digits from a string"
   ]
  },
  {
   "cell_type": "code",
   "execution_count": 22,
   "id": "a7f594d6-a2e7-408c-93e3-27349429c45a",
   "metadata": {},
   "outputs": [
    {
     "name": "stdout",
     "output_type": "stream",
     "text": [
      "Extracted digits: 123456\n"
     ]
    }
   ],
   "source": [
    "def extract_digits(text):\n",
    "    # Step 1: Initialize an empty string to store the extracted digits.\n",
    "    digits = \"\"\n",
    "\n",
    "    # Step 2: Iterate through each character in the text.\n",
    "    for char in text:\n",
    "        # Check if the character is a digit using the isdigit() method.\n",
    "        if char.isdigit():\n",
    "            # Append the digit to the digits string.\n",
    "            digits += char\n",
    "\n",
    "    # Step 3: Return the extracted digits.\n",
    "    return digits\n",
    "\n",
    "# Example usage\n",
    "text = \"Hello123World456\"\n",
    "extracted_digits = extract_digits(text)\n",
    "print(\"Extracted digits:\", extracted_digits)"
   ]
  },
  {
   "cell_type": "code",
   "execution_count": 1,
   "id": "31f69faf-d380-4c95-8ce7-f615ffafb371",
   "metadata": {},
   "outputs": [],
   "source": [
    "#25.Extract all alphabets from a string."
   ]
  },
  {
   "cell_type": "code",
   "execution_count": 4,
   "id": "ceb1ed3d-10e7-48cc-a30b-a70e99e1a064",
   "metadata": {},
   "outputs": [
    {
     "name": "stdout",
     "output_type": "stream",
     "text": [
      "Extracted alphabets: HelloWorld\n"
     ]
    }
   ],
   "source": [
    "import re\n",
    "\n",
    "def extract_alphabets(input_string):\n",
    "    # Use regular expression to find all alphabets\n",
    "    alphabets = re.findall(r'[a-zA-Z]', input_string)\n",
    "    # Join the alphabets list into a single string\n",
    "    result = ''.join(alphabets)\n",
    "    return result\n",
    "\n",
    "# Test the function with an input string\n",
    "input_string = \"Hello123 World!\"\n",
    "result = extract_alphabets(input_string)\n",
    "print(\"Extracted alphabets:\", result)"
   ]
  },
  {
   "cell_type": "code",
   "execution_count": null,
   "id": "4fd32085-2ff8-4213-af9b-702c72924807",
   "metadata": {},
   "outputs": [],
   "source": [
    "#26.count the number of uppercase letters in string "
   ]
  },
  {
   "cell_type": "code",
   "execution_count": 23,
   "id": "33fc64b2-5d53-4661-979f-6d54b9789331",
   "metadata": {},
   "outputs": [
    {
     "name": "stdout",
     "output_type": "stream",
     "text": [
      "6\n"
     ]
    }
   ],
   "source": [
    "def count_uppercase(input_string):\n",
    "    uppercase_count = sum(1 for char in input_string if char.isupper())\n",
    "    return uppercase_count\n",
    "\n",
    "# Example input string\n",
    "input_string = \"HelloWORLD\"\n",
    "result = count_uppercase(input_string)\n",
    "print(result)"
   ]
  },
  {
   "cell_type": "code",
   "execution_count": 24,
   "id": "e6a8c576-2ec0-4a68-b222-8ceff9295d49",
   "metadata": {},
   "outputs": [],
   "source": [
    "#27.count the number of lowercase letters in a string."
   ]
  },
  {
   "cell_type": "code",
   "execution_count": 25,
   "id": "0a850789-c19c-4164-9198-0194d1f764d1",
   "metadata": {},
   "outputs": [
    {
     "name": "stdout",
     "output_type": "stream",
     "text": [
      "4\n"
     ]
    }
   ],
   "source": [
    "def count_lowercase(input_string):\n",
    "    lowercase_count = sum(1 for char in input_string if char.islower())\n",
    "    return lowercase_count\n",
    "\n",
    "# Example input string\n",
    "input_string = \"HelloWORLD\"\n",
    "result = count_lowercase(input_string)\n",
    "print(result)\n",
    "    "
   ]
  },
  {
   "cell_type": "code",
   "execution_count": 26,
   "id": "cd9d037e-e41f-433c-8e50-57c4bdb69c54",
   "metadata": {},
   "outputs": [],
   "source": [
    "#28.swap the case of each character in a string"
   ]
  },
  {
   "cell_type": "code",
   "execution_count": 27,
   "id": "d896f0ba-a910-485a-bc4b-258596e238ab",
   "metadata": {},
   "outputs": [
    {
     "name": "stdout",
     "output_type": "stream",
     "text": [
      "hELLOworld\n"
     ]
    }
   ],
   "source": [
    "def swap_case(input_string):\n",
    "    swapped_string = input_string.swapcase()\n",
    "    return swapped_string\n",
    "input_string = \"HelloWORLD\"\n",
    "result = swap_case(input_string)\n",
    "print(result)"
   ]
  },
  {
   "cell_type": "code",
   "execution_count": 28,
   "id": "293a5b89-b12d-42e1-b1f9-4e91580d551f",
   "metadata": {},
   "outputs": [],
   "source": [
    "#29.remove a specific word from a string "
   ]
  },
  {
   "cell_type": "code",
   "execution_count": 29,
   "id": "f1ce4b70-8ecc-4f81-80dd-0c0e69ed193d",
   "metadata": {},
   "outputs": [
    {
     "name": "stdout",
     "output_type": "stream",
     "text": [
      "Hello world, welcome to the of programming.\n"
     ]
    }
   ],
   "source": [
    "def remove_word(input_string, word_to_remove):\n",
    "    words = input_string.split()  # Split the input string into a list of words\n",
    "    filtered_words = [word for word in words if word != word_to_remove]  # Create a new list excluding the word to remove\n",
    "    modified_string = ' '.join(filtered_words)  # Join the filtered words back into a string\n",
    "    return modified_string\n",
    "\n",
    "# Example input string and word to remove\n",
    "input_string = \"Hello world, welcome to the world of programming.\"\n",
    "word_to_remove = \"world\"\n",
    "result = remove_word(input_string, word_to_remove)\n",
    "print(result)"
   ]
  },
  {
   "cell_type": "code",
   "execution_count": 30,
   "id": "ff9beefe-39b0-4bf8-93b5-87da0a486095",
   "metadata": {},
   "outputs": [],
   "source": [
    "#30. check if a string is a valid email address"
   ]
  },
  {
   "cell_type": "code",
   "execution_count": 31,
   "id": "aab93380-cfba-4873-88ad-0aca4752e243",
   "metadata": {},
   "outputs": [
    {
     "name": "stdout",
     "output_type": "stream",
     "text": [
      "True\n",
      "False\n"
     ]
    }
   ],
   "source": [
    "import re  \n",
    "\n",
    "def is_valid_email(email):\n",
    "    pattern = r'^[\\w\\.-]+@[\\w\\.-]+\\.\\w+$' \n",
    "    if re.match(pattern, email):\n",
    "        return True\n",
    "    else:\n",
    "        return False\n",
    "email1 = \"example@email.com\"\n",
    "email2 = \"invalid-email\"\n",
    "result1 = is_valid_email(email1)\n",
    "result2 = is_valid_email(email2)\n",
    "print(result1)\n",
    "print(result2)"
   ]
  },
  {
   "cell_type": "code",
   "execution_count": null,
   "id": "6858a0f1-7dfb-4195-9aa0-609b738c911a",
   "metadata": {},
   "outputs": [],
   "source": [
    "#31.  Extract the username from an email address string."
   ]
  },
  {
   "cell_type": "code",
   "execution_count": 32,
   "id": "07a77557-dc2c-4ad7-9d9b-765b5b29bc4e",
   "metadata": {},
   "outputs": [
    {
     "name": "stdout",
     "output_type": "stream",
     "text": [
      "example\n"
     ]
    }
   ],
   "source": [
    "def extract_username(email):\n",
    "    username = email.split('@')[0]  # Split the email address at \"@\" and take the first part\n",
    "    return username\n",
    "\n",
    "# Example email address\n",
    "email = \"example@email.com\"\n",
    "result = extract_username(email)\n",
    "print(result)"
   ]
  },
  {
   "cell_type": "code",
   "execution_count": null,
   "id": "21110767-45c7-46ab-b9ee-dac9b364badb",
   "metadata": {},
   "outputs": [],
   "source": [
    "### 32. Extract the domain name from an email address string."
   ]
  },
  {
   "cell_type": "code",
   "execution_count": 33,
   "id": "415998ac-ba91-4dc8-b241-f338dec15a2a",
   "metadata": {},
   "outputs": [
    {
     "name": "stdout",
     "output_type": "stream",
     "text": [
      "email.com\n"
     ]
    }
   ],
   "source": [
    "def extract_domain(email):\n",
    "    domain = email.split('@')[1]  # Split the email address at \"@\" and take the second part\n",
    "    return domain\n",
    "\n",
    "# Example email address\n",
    "email = \"example@email.com\"\n",
    "result = extract_domain(email)\n",
    "print(result)"
   ]
  },
  {
   "cell_type": "code",
   "execution_count": null,
   "id": "2c41d7a5-8cff-4429-b38c-cf47e03488dc",
   "metadata": {},
   "outputs": [],
   "source": [
    "### 33. Replace multiple spaces in a string with a single space."
   ]
  },
  {
   "cell_type": "code",
   "execution_count": 35,
   "id": "00049968-1dbe-4b3c-9aaf-86fd81c1329e",
   "metadata": {},
   "outputs": [
    {
     "name": "stdout",
     "output_type": "stream",
     "text": [
      "Hello world! How are you?\n"
     ]
    }
   ],
   "source": [
    "def replace_multiple_spaces(input_string):\n",
    "    cleaned_string = ' '.join(input_string.split())  # Split the string at spaces and then join using a single space\n",
    "    return cleaned_string\n",
    "\n",
    "# Example input string with multiple spaces\n",
    "input_string = \"Hello     world!   How   are   you?\"\n",
    "result = replace_multiple_spaces(input_string)\n",
    "print(result)"
   ]
  },
  {
   "cell_type": "code",
   "execution_count": null,
   "id": "60d0554d-d7b6-480b-9e03-bcdd9da002c7",
   "metadata": {},
   "outputs": [],
   "source": [
    "### 34. Check if a string is a valid URL."
   ]
  },
  {
   "cell_type": "code",
   "execution_count": 36,
   "id": "24ed5132-0900-4c03-a7ef-e21db85a87f0",
   "metadata": {},
   "outputs": [
    {
     "name": "stdout",
     "output_type": "stream",
     "text": [
      "True\n",
      "False\n"
     ]
    }
   ],
   "source": [
    "from urllib.parse import urlparse\n",
    "\n",
    "def is_valid_url(url):\n",
    "    try:\n",
    "        result = urlparse(url)\n",
    "        return all([result.scheme, result.netloc])  # Check if both scheme and netloc are present\n",
    "    except ValueError:\n",
    "        return False\n",
    "\n",
    "# Example URLs\n",
    "url1 = \"https://www.example.com\"\n",
    "url2 = \"invalid-url\"\n",
    "result1 = is_valid_url(url1)\n",
    "result2 = is_valid_url(url2)\n",
    "print(result1)  # Should print True\n",
    "print(result2)  # Should print False"
   ]
  },
  {
   "cell_type": "code",
   "execution_count": null,
   "id": "3e18cc86-23c7-47ab-b4c7-3a0c3be4fb97",
   "metadata": {},
   "outputs": [],
   "source": [
    "## 35. Extract the protocol (http or https) from a URL string."
   ]
  },
  {
   "cell_type": "code",
   "execution_count": 39,
   "id": "032eebda-962a-4eda-aa22-56a3f11599af",
   "metadata": {},
   "outputs": [
    {
     "name": "stdout",
     "output_type": "stream",
     "text": [
      "Protocol 1: https\n",
      "Protocol 2: http\n",
      "Protocol 3: ftp\n"
     ]
    }
   ],
   "source": [
    "def extract_protocol(url):\n",
    "    \n",
    "    protocol_end = url.find(\"://\")\n",
    "\n",
    "    if protocol_end != -1:\n",
    "        \n",
    "        protocol = url[:protocol_end]\n",
    "        return protocol\n",
    "    else:\n",
    "        return None\n",
    "\n",
    "\n",
    "url1 = \"https://www.example.com\"\n",
    "url2 = \"http://google.com\"\n",
    "url3 = \"ftp://ftp.example.com\"\n",
    "protocol1 = extract_protocol(url1)\n",
    "protocol2 = extract_protocol(url2)\n",
    "protocol3 = extract_protocol(url3)\n",
    "\n",
    "print(\"Protocol 1:\", protocol1)\n",
    "print(\"Protocol 2:\", protocol2)\n",
    "print(\"Protocol 3:\", protocol3)\n"
   ]
  },
  {
   "cell_type": "code",
   "execution_count": 40,
   "id": "a3ef08c9-a275-4b5c-af8b-9ce6faf0b01b",
   "metadata": {},
   "outputs": [],
   "source": [
    "### 36. Find the frequency of each character in a string."
   ]
  },
  {
   "cell_type": "code",
   "execution_count": 41,
   "id": "3a245edf-ee78-48e9-9ba5-3f38fd6ab0c7",
   "metadata": {},
   "outputs": [
    {
     "name": "stdout",
     "output_type": "stream",
     "text": [
      "Character: 'h', Frequency: 1\n",
      "Character: 'e', Frequency: 1\n",
      "Character: 'l', Frequency: 3\n",
      "Character: 'o', Frequency: 2\n",
      "Character: ' ', Frequency: 1\n",
      "Character: 'w', Frequency: 1\n",
      "Character: 'r', Frequency: 1\n",
      "Character: 'd', Frequency: 1\n"
     ]
    }
   ],
   "source": [
    "def character_frequency(input_string):\n",
    "    frequency = {}  # Create an empty dictionary to store character frequencies\n",
    "\n",
    "    for char in input_string:\n",
    "        if char in frequency:\n",
    "            frequency[char] += 1  # Increment the frequency count if the character is already in the dictionary\n",
    "        else:\n",
    "            frequency[char] = 1   # Initialize the frequency count to 1 if the character is not in the dictionary\n",
    "\n",
    "    return frequency\n",
    "\n",
    "# Example string\n",
    "input_str = \"hello world\"\n",
    "\n",
    "# Calculate character frequencies\n",
    "char_freq = character_frequency(input_str)\n",
    "\n",
    "# Print character frequencies\n",
    "for char, freq in char_freq.items():\n",
    "    print(f\"Character: '{char}', Frequency: {freq}\")"
   ]
  },
  {
   "cell_type": "code",
   "execution_count": null,
   "id": "e0841cea-82f5-4178-ae2e-bfb4462e147d",
   "metadata": {},
   "outputs": [],
   "source": [
    "###37. Remove all punctuation from a string."
   ]
  },
  {
   "cell_type": "code",
   "execution_count": 42,
   "id": "8e0cbde5-9d8b-4f6f-a32e-890f2f167b43",
   "metadata": {},
   "outputs": [
    {
     "name": "stdout",
     "output_type": "stream",
     "text": [
      "Original string: Hello, world! How's it going?\n",
      "Cleaned string: Hello world Hows it going\n"
     ]
    }
   ],
   "source": [
    "import string\n",
    "\n",
    "def remove_punctuation(input_string):\n",
    "    # Create a translation table to remove punctuation\n",
    "    translator = str.maketrans(\"\", \"\", string.punctuation)\n",
    "\n",
    "    # Use the translation table to remove punctuation from the input string\n",
    "    clean_string = input_string.translate(translator)\n",
    "\n",
    "    return clean_string\n",
    "\n",
    "# Example string with punctuation\n",
    "input_str = \"Hello, world! How's it going?\"\n",
    "\n",
    "# Remove punctuation\n",
    "cleaned_str = remove_punctuation(input_str)\n",
    "\n",
    "# Print the cleaned string\n",
    "print(\"Original string:\", input_str)\n",
    "print(\"Cleaned string:\", cleaned_str)"
   ]
  },
  {
   "cell_type": "code",
   "execution_count": null,
   "id": "d015f53e-7094-47d3-a91d-8b5f80156cf7",
   "metadata": {},
   "outputs": [],
   "source": [
    "# 38. Check if a string contains only digits."
   ]
  },
  {
   "cell_type": "code",
   "execution_count": 43,
   "id": "67fd2e78-aecd-4f0a-916d-aa34338e84ac",
   "metadata": {},
   "outputs": [
    {
     "name": "stdout",
     "output_type": "stream",
     "text": [
      "'12345' contains only digits: True\n",
      "'Hello123' contains only digits: False\n",
      "'456.789' contains only digits: False\n"
     ]
    }
   ],
   "source": [
    "def contains_only_digits(input_string):\n",
    "    # Check if all characters in the string are digits\n",
    "    return input_string.isdigit()\n",
    "\n",
    "\n",
    "string1 = \"12345\"\n",
    "string2 = \"Hello123\"\n",
    "string3 = \"456.789\"\n",
    "\n",
    "\n",
    "result1 = contains_only_digits(string1)\n",
    "result2 = contains_only_digits(string2)\n",
    "result3 = contains_only_digits(string3)\n",
    "\n",
    "\n",
    "print(f\"'{string1}' contains only digits:\", result1)\n",
    "print(f\"'{string2}' contains only digits:\", result2)\n",
    "print(f\"'{string3}' contains only digits:\", result3)"
   ]
  },
  {
   "cell_type": "code",
   "execution_count": null,
   "id": "b220a1e4-89b5-4db9-9179-e0b899e5498c",
   "metadata": {},
   "outputs": [],
   "source": [
    "# 39. Check if a string contains only alphabets."
   ]
  },
  {
   "cell_type": "code",
   "execution_count": 44,
   "id": "da14d460-ad18-488d-9eb4-b0811f651e42",
   "metadata": {},
   "outputs": [
    {
     "name": "stdout",
     "output_type": "stream",
     "text": [
      "'Hello' contains only alphabets: True\n",
      "'Hello123' contains only alphabets: False\n",
      "'12345' contains only alphabets: False\n"
     ]
    }
   ],
   "source": [
    "def contains_only_alphabets(input_string):\n",
    "    # Check if all characters in the string are alphabetic\n",
    "    return input_string.isalpha()\n",
    "\n",
    "# Example strings\n",
    "string1 = \"Hello\"\n",
    "string2 = \"Hello123\"\n",
    "string3 = \"12345\"\n",
    "\n",
    "# Check if strings contain only alphabets\n",
    "result1 = contains_only_alphabets(string1)\n",
    "result2 = contains_only_alphabets(string2)\n",
    "result3 = contains_only_alphabets(string3)\n",
    "\n",
    "# Print the results\n",
    "print(f\"'{string1}' contains only alphabets:\", result1)\n",
    "print(f\"'{string2}' contains only alphabets:\", result2)\n",
    "print(f\"'{string3}' contains only alphabets:\", result3)"
   ]
  },
  {
   "cell_type": "code",
   "execution_count": null,
   "id": "12e5f0be-0119-4311-a010-68c6f98842db",
   "metadata": {},
   "outputs": [],
   "source": [
    "# 40. Convert a string to a list of characters."
   ]
  },
  {
   "cell_type": "code",
   "execution_count": 45,
   "id": "c7eee25c-b4aa-4245-9929-0be0f507d320",
   "metadata": {},
   "outputs": [
    {
     "name": "stdout",
     "output_type": "stream",
     "text": [
      "Original string: Hello, world!\n",
      "List of characters: ['H', 'e', 'l', 'l', 'o', ',', ' ', 'w', 'o', 'r', 'l', 'd', '!']\n"
     ]
    }
   ],
   "source": [
    "def string_to_list(input_string):\n",
    "    # Use list() constructor to convert the string to a list of characters\n",
    "    char_list = list(input_string)\n",
    "    return char_list\n",
    "\n",
    "# Example string\n",
    "input_str = \"Hello, world!\"\n",
    "\n",
    "# Convert the string to a list of characters\n",
    "char_list = string_to_list(input_str)\n",
    "\n",
    "# Print the list of characters\n",
    "print(\"Original string:\", input_str)\n",
    "print(\"List of characters:\", char_list)"
   ]
  },
  {
   "cell_type": "code",
   "execution_count": null,
   "id": "963afa80-cad4-4ae4-8b78-6a4318e41731",
   "metadata": {},
   "outputs": [],
   "source": [
    "#41. Check if two strings are anagrams."
   ]
  },
  {
   "cell_type": "code",
   "execution_count": 48,
   "id": "12feeedd-11e3-425f-a371-f58c5a347cab",
   "metadata": {},
   "outputs": [
    {
     "name": "stdout",
     "output_type": "stream",
     "text": [
      "'listen' and 'silent' are anagrams: True\n",
      "'hello' and 'world' are anagrams: False\n"
     ]
    }
   ],
   "source": [
    "def are_anagrams(str1, str2):\n",
    "    # Remove spaces and convert strings to lowercase for accurate comparison\n",
    "    str1 = str1.replace(\" \", \"\").lower()\n",
    "    str2 = str2.replace(\" \", \"\").lower()\n",
    "\n",
    "    # Sort the characters in both strings and compare\n",
    "    return sorted(str1) == sorted(str2)\n",
    "\n",
    "# Example strings\n",
    "string1 = \"listen\"\n",
    "string2 = \"silent\"\n",
    "string3 = \"hello\"\n",
    "string4 = \"world\"\n",
    "\n",
    "# Check if strings are anagrams\n",
    "result1 = are_anagrams(string1, string2)\n",
    "result2 = are_anagrams(string3, string4)\n",
    "\n",
    "# Print the results\n",
    "print(f\"'{string1}' and '{string2}' are anagrams:\", result1)\n",
    "print(f\"'{string3}' and '{string4}' are anagrams:\", result2)"
   ]
  },
  {
   "cell_type": "code",
   "execution_count": null,
   "id": "3627eb22-3f46-43e4-889e-3ca761685696",
   "metadata": {},
   "outputs": [],
   "source": [
    "# 42. Encode a string using a Caesar cipher."
   ]
  },
  {
   "cell_type": "code",
   "execution_count": 50,
   "id": "501548df-a23a-44c4-8411-4c5275853536",
   "metadata": {},
   "outputs": [
    {
     "ename": "IndentationError",
     "evalue": "unexpected indent (3304733936.py, line 17)",
     "output_type": "error",
     "traceback": [
      "\u001b[0;36m  Cell \u001b[0;32mIn[50], line 17\u001b[0;36m\u001b[0m\n\u001b[0;31m    for char in text:\u001b[0m\n\u001b[0m    ^\u001b[0m\n\u001b[0;31mIndentationError\u001b[0m\u001b[0;31m:\u001b[0m unexpected indent\n"
     ]
    }
   ],
   "source": []
  },
  {
   "cell_type": "code",
   "execution_count": 51,
   "id": "3a1b83c2-31b0-45aa-8566-a06c32133ee0",
   "metadata": {},
   "outputs": [
    {
     "name": "stdout",
     "output_type": "stream",
     "text": [
      "Encoded text: ehoor, zruog!\n"
     ]
    }
   ],
   "source": [
    "# Define a function named caesar_cipher that encodes a string using a Caesar cipher.\n",
    "def caesar_cipher(text, shift):\n",
    "  \"\"\"\n",
    "  Encodes a string using a Caesar cipher.\n",
    "\n",
    "  Args:\n",
    "    text: The string to encode.\n",
    "    shift: The number of positions to shift each letter.\n",
    "\n",
    "  Returns:\n",
    "    The encoded string.\n",
    "  \"\"\"\n",
    "\n",
    "  # Initialize an empty string to store the encoded text.\n",
    "  encoded_text = \"\"\n",
    "\n",
    "  # Iterate through each character in the input text.\n",
    "  for char in text:\n",
    "    # Check if the character is alphabetic.\n",
    "    if char.isalpha():\n",
    "      # Calculate the encoded character's Unicode code point value by shifting it by the specified amount.\n",
    "      # Ensure the value wraps around within the lowercase alphabet range (a-z).\n",
    "      encoded_char = chr((ord(char) + shift - ord('a')) % 26 + ord('a'))\n",
    "    else:\n",
    "      # Keep non-alphabetic characters unchanged.\n",
    "      encoded_char = char\n",
    "\n",
    "    # Add the encoded character to the encoded text.\n",
    "    encoded_text += encoded_char\n",
    "\n",
    "  # Return the resulting encoded text.\n",
    "  return encoded_text\n",
    "\n",
    "# Define the input text and the shift value for encoding.\n",
    "text = \"Hello, world!\"\n",
    "shift = 3\n",
    "\n",
    "# Call the caesar_cipher function to encode the text using the specified shift.\n",
    "encoded_text = caesar_cipher(text, shift)\n",
    "\n",
    "# Print the encoded text.\n",
    "print(\"Encoded text:\", encoded_text)"
   ]
  },
  {
   "cell_type": "code",
   "execution_count": null,
   "id": "493fed3d-6b29-4149-93b9-3ef116922426",
   "metadata": {},
   "outputs": [],
   "source": [
    "### 43. Decode a Caesar cipher encoded string."
   ]
  },
  {
   "cell_type": "code",
   "execution_count": 52,
   "id": "37f6a66d-65ca-4a16-9d77-41af3f0c5115",
   "metadata": {},
   "outputs": [
    {
     "name": "stdout",
     "output_type": "stream",
     "text": [
      "Decoded text: ilmm, world!\n"
     ]
    }
   ],
   "source": [
    "# Define a function to decode a string using a Caesar cipher\n",
    "def caesar_cipher_decoder(text, shift):\n",
    "    \"\"\"\n",
    "    Decodes a string using a Caesar cipher.\n",
    "\n",
    "    Args:\n",
    "        text: The string to decode.\n",
    "        shift: The number of positions to shift each letter.\n",
    "\n",
    "    Returns:\n",
    "        The decoded string.\n",
    "    \"\"\"\n",
    "\n",
    "    # Initialize an empty string to store the decoded text\n",
    "    decoded_text = \"\"\n",
    "\n",
    "    # Loop through each character in the input text\n",
    "    for char in text:\n",
    "        # Check if the character is an alphabetic character\n",
    "        if char.isalpha():\n",
    "            # Calculate the decoded character using the shift value\n",
    "            decoded_char = chr((ord(char) - shift - ord('a')) % 26 + ord('a'))\n",
    "        else:\n",
    "            # If the character is not alphabetic, keep it unchanged\n",
    "            decoded_char = char\n",
    "\n",
    "        # Add the decoded character to the decoded text\n",
    "        decoded_text += decoded_char\n",
    "\n",
    "    # Return the fully decoded text\n",
    "    return decoded_text\n",
    "\n",
    "# Example input\n",
    "text = \"lopp, zruog!\"\n",
    "shift = 3\n",
    "\n",
    "# Call the caesar_cipher_decoder function to decode the input text\n",
    "decoded_text = caesar_cipher_decoder(text, shift)\n",
    "\n",
    "# Print the decoded text\n",
    "print(\"Decoded text:\", decoded_text)"
   ]
  },
  {
   "cell_type": "code",
   "execution_count": null,
   "id": "17114ef4-b50c-4b70-b592-d3cbfc4fb1ea",
   "metadata": {},
   "outputs": [],
   "source": [
    "#44. Find the most frequent word in a string."
   ]
  },
  {
   "cell_type": "code",
   "execution_count": 55,
   "id": "2a3589a0-6439-42b9-b3e3-b9b4487bbbfb",
   "metadata": {},
   "outputs": [
    {
     "name": "stdout",
     "output_type": "stream",
     "text": [
      "Most frequent word: hello\n"
     ]
    }
   ],
   "source": [
    "import re\n",
    "from collections import Counter\n",
    "\n",
    "def most_frequent_word(input_string):\n",
    "    # Remove punctuation and convert to lowercase\n",
    "    clean_string = re.sub(r'[^\\w\\s]', '', input_string).lower()\n",
    "\n",
    "    # Split the string into words\n",
    "    words = clean_string.split()\n",
    "\n",
    "    # Use Counter to count word frequencies\n",
    "    word_counter = Counter(words)\n",
    "\n",
    "    # Find the most common word\n",
    "    most_common_word = word_counter.most_common(1)[0][0]\n",
    "    \n",
    "\n",
    "\n",
    "\n",
    "\n",
    "    return most_common_word\n",
    "\n",
    "# Example string\n",
    "input_str = \"Hello world, hello there! How's the world?\"\n",
    "\n",
    "# Find the most frequent word\n",
    "most_common = most_frequent_word(input_str)\n",
    "\n",
    "# Print the result\n",
    "print(\"Most frequent word:\", most_common)"
   ]
  },
  {
   "cell_type": "code",
   "execution_count": null,
   "id": "796e352e-e7f6-4256-b05f-e4377c1f84e4",
   "metadata": {},
   "outputs": [],
   "source": [
    "### 46. Count the number of syllables in a string."
   ]
  },
  {
   "cell_type": "code",
   "execution_count": 56,
   "id": "f9f95353-5d30-4974-9d69-3cd4a9ba854b",
   "metadata": {},
   "outputs": [
    {
     "name": "stdout",
     "output_type": "stream",
     "text": [
      "'hello' has 2 syllables.\n",
      "'banana' has 3 syllables.\n",
      "'syllable' has 3 syllables.\n"
     ]
    }
   ],
   "source": [
    "import re\n",
    "\n",
    "def count_syllables(word):\n",
    "    # Count vowel groups using regular expression\n",
    "    vowel_groups = re.findall(r'[aeiouy]+', word, re.IGNORECASE)\n",
    "\n",
    "    return len(vowel_groups)\n",
    "\n",
    "# Example words\n",
    "word1 = \"hello\"\n",
    "word2 = \"banana\"\n",
    "word3 = \"syllable\"\n",
    "\n",
    "# Count syllables\n",
    "syllables1 = count_syllables(word1)\n",
    "syllables2 = count_syllables(word2)\n",
    "syllables3 = count_syllables(word3)\n",
    "\n",
    "# Print the results\n",
    "print(f\"'{word1}' has {syllables1} syllables.\")\n",
    "print(f\"'{word2}' has {syllables2} syllables.\")\n",
    "print(f\"'{word3}' has {syllables3} syllables.\")"
   ]
  },
  {
   "cell_type": "code",
   "execution_count": null,
   "id": "7ce15482-13be-4f1e-9eee-eaa76e81d161",
   "metadata": {},
   "outputs": [],
   "source": [
    "## 47. Check if a string contains any special characters."
   ]
  },
  {
   "cell_type": "code",
   "execution_count": 57,
   "id": "e179aa97-228e-4f0c-8acf-4accc7249029",
   "metadata": {},
   "outputs": [
    {
     "name": "stdout",
     "output_type": "stream",
     "text": [
      "'Hello, world!' contains special characters: True\n",
      "'This is a test.' contains special characters: True\n",
      "'Special@Characters' contains special characters: True\n"
     ]
    }
   ],
   "source": [
    "import re\n",
    "\n",
    "def contains_special_characters(input_string):\n",
    "    # Define a regular expression pattern to match special characters\n",
    "    pattern = re.compile(r'[!@#$%^&*()_+{}\\[\\]:;<>,.?~\\\\/]')\n",
    "\n",
    "    # Use the search() method to find a match\n",
    "    match = pattern.search(input_string)\n",
    "\n",
    "    # Return True if a match is found, False otherwise\n",
    "    return bool(match)\n",
    "\n",
    "# Example strings\n",
    "string1 = \"Hello, world!\"\n",
    "string2 = \"This is a test.\"\n",
    "string3 = \"Special@Characters\"\n",
    "\n",
    "# Check if strings contain special characters\n",
    "result1 = contains_special_characters(string1)\n",
    "result2 = contains_special_characters(string2)\n",
    "result3 = contains_special_characters(string3)\n",
    "\n",
    "# Print the results\n",
    "print(f\"'{string1}' contains special characters:\", result1)\n",
    "print(f\"'{string2}' contains special characters:\", result2)\n",
    "print(f\"'{string3}' contains special characters:\", result3)"
   ]
  },
  {
   "cell_type": "code",
   "execution_count": null,
   "id": "631949cd-cf9d-4118-ac8e-47ad9e480c70",
   "metadata": {},
   "outputs": [],
   "source": [
    "### 48. Remove the nth word from a string."
   ]
  },
  {
   "cell_type": "code",
   "execution_count": 58,
   "id": "e504434b-3038-4569-adec-f0ce1362edce",
   "metadata": {},
   "outputs": [
    {
     "name": "stdout",
     "output_type": "stream",
     "text": [
      "Original string: This is an example sentence to test the function.\n",
      "Modified string: This is an sentence to test the function.\n",
      "Removed word: example\n"
     ]
    }
   ],
   "source": [
    "def remove_nth_word(input_string, n):\n",
    "    # Split the input string into words\n",
    "    words = input_string.split()\n",
    "\n",
    "    # Check if n is within a valid range\n",
    "    if n >= 1 and n <= len(words):\n",
    "        # Remove the nth word by excluding it from the words list\n",
    "        removed_word = words.pop(n - 1)\n",
    "\n",
    "        # Join the remaining words to form the modified string\n",
    "        modified_string = ' '.join(words)\n",
    "\n",
    "        return modified_string, removed_word\n",
    "    else:\n",
    "        return None, None\n",
    "\n",
    "# Example string and n value\n",
    "input_str = \"This is an example sentence to test the function.\"\n",
    "n_value = 4\n",
    "\n",
    "# Remove the nth word\n",
    "modified_str, removed_word = remove_nth_word(input_str, n_value)\n",
    "\n",
    "# Print the results\n",
    "print(\"Original string:\", input_str)\n",
    "if modified_str is not None:\n",
    "    print(\"Modified string:\", modified_str)\n",
    "    print(\"Removed word:\", removed_word)\n",
    "else:\n",
    "    print(\"Invalid n value.\")"
   ]
  },
  {
   "cell_type": "code",
   "execution_count": 59,
   "id": "0b70ba51-3448-466b-ba32-17049306b08c",
   "metadata": {},
   "outputs": [],
   "source": [
    "### 50. Convert a CSV string to a list of lists."
   ]
  },
  {
   "cell_type": "code",
   "execution_count": 60,
   "id": "405aa0c7-594d-44ab-9c9a-0356f6b01bc9",
   "metadata": {},
   "outputs": [
    {
     "name": "stdout",
     "output_type": "stream",
     "text": [
      "['Name', ' Age', ' Country']\n",
      "['John', ' 25', ' USA']\n",
      "['Alice', ' 30', ' Canada']\n",
      "['Bob', ' 22', ' UK']\n"
     ]
    }
   ],
   "source": [
    "def csv_string_to_list(csv_string):\n",
    "    # Split the CSV string into lines\n",
    "    lines = csv_string.split('\\n')\n",
    "\n",
    "    # Initialize an empty list to store the result\n",
    "    result = []\n",
    "\n",
    "    for line in lines:\n",
    "        # Split each line into fields using comma as the delimiter\n",
    "        fields = line.split(',')\n",
    "\n",
    "        # Append the fields to the result list as a row\n",
    "        result.append(fields)\n",
    "\n",
    "    return result\n",
    "\n",
    "# Example CSV string\n",
    "csv_data = \"Name, Age, Country\\nJohn, 25, USA\\nAlice, 30, Canada\\nBob, 22, UK\"\n",
    "\n",
    "# Convert CSV string to a list of lists\n",
    "list_of_lists = csv_string_to_list(csv_data)\n",
    "\n",
    "# Print the result\n",
    "for row in list_of_lists:\n",
    "    print(row)"
   ]
  },
  {
   "cell_type": "code",
   "execution_count": 61,
   "id": "31479466-37fa-4257-9155-d8c2142130bc",
   "metadata": {},
   "outputs": [],
   "source": [
    "#list based practice problem"
   ]
  },
  {
   "cell_type": "code",
   "execution_count": null,
   "id": "b193b39f-0112-4641-9229-4d4cf178e878",
   "metadata": {},
   "outputs": [],
   "source": [
    "# 1. Create a list with integers from 1 to 10."
   ]
  },
  {
   "cell_type": "code",
   "execution_count": 62,
   "id": "2da093c5-352a-4fa0-b992-bffb31d8f1c9",
   "metadata": {},
   "outputs": [
    {
     "name": "stdout",
     "output_type": "stream",
     "text": [
      "[1, 2, 3, 4, 5, 6, 7, 8, 9, 10]\n"
     ]
    }
   ],
   "source": [
    "integer_list = [i for i in range(1,11)]\n",
    "\n",
    "print(integer_list)"
   ]
  },
  {
   "cell_type": "code",
   "execution_count": null,
   "id": "456fc293-ee57-44f2-b917-d8191a6bf231",
   "metadata": {},
   "outputs": [],
   "source": [
    "### 2. Find the length of a list without using the `len()` function."
   ]
  },
  {
   "cell_type": "code",
   "execution_count": 63,
   "id": "2d0bd005-7d26-40c8-af4b-f0ca1f745593",
   "metadata": {},
   "outputs": [
    {
     "name": "stdout",
     "output_type": "stream",
     "text": [
      "Length of the list: 5\n"
     ]
    }
   ],
   "source": [
    "def custom_len(input_list):\n",
    "    count = 0\n",
    "    for _ in input_list:\n",
    "        count += 1\n",
    "    return count\n",
    "\n",
    "# Example list\n",
    "my_list = [10, 20, 30, 40, 50]\n",
    "\n",
    "# Find the length of the list using the custom_len function\n",
    "length = custom_len(my_list)\n",
    "\n",
    "# Print the length of the list\n",
    "print(\"Length of the list:\", length)"
   ]
  },
  {
   "cell_type": "code",
   "execution_count": 64,
   "id": "4f665d99-0666-4a05-8afe-48fc2a0e4cc0",
   "metadata": {},
   "outputs": [
    {
     "name": "stdout",
     "output_type": "stream",
     "text": [
      "['Name', ' Age', ' Country']\n",
      "['John', ' 25', ' USA']\n",
      "['Alice', ' 30', ' Canada']\n",
      "['Bob', ' 22', ' UK']\n"
     ]
    }
   ],
   "source": [
    "s = \"Name, Age, Country\\nJohn, 25, USA\\nAlice, 30, Canada\\nBob, 22, UK\"\n",
    "lines = s.split(\"\\n\")\n",
    "\n",
    "lst = []\n",
    "for line in lines:\n",
    "  field = line.split(\",\")\n",
    "  lst.append(field)\n",
    "\n",
    "for row in lst:\n",
    "  print(row)\n"
   ]
  },
  {
   "cell_type": "code",
   "execution_count": null,
   "id": "b9192c84-66dc-4cfc-81b5-16df35ad7123",
   "metadata": {},
   "outputs": [],
   "source": [
    "### 3. Append an element to the end of a list."
   ]
  },
  {
   "cell_type": "code",
   "execution_count": 65,
   "id": "96beca94-9a69-49e8-a285-cfde53e18705",
   "metadata": {},
   "outputs": [
    {
     "name": "stdout",
     "output_type": "stream",
     "text": [
      "Updated list: [10, 20, 30, 40]\n"
     ]
    }
   ],
   "source": [
    "# Example list\n",
    "my_list = [10, 20, 30]\n",
    "\n",
    "# Element to append\n",
    "new_element = 40\n",
    "\n",
    "# Append the new element to the end of the list\n",
    "my_list.append(new_element)\n",
    "\n",
    "# Print the updated list\n",
    "print(\"Updated list:\", my_list)"
   ]
  },
  {
   "cell_type": "code",
   "execution_count": 66,
   "id": "f9ec2484-7a52-41c8-b8fb-c6c8a03e0d14",
   "metadata": {},
   "outputs": [],
   "source": [
    "### 4. Insert an element at a specific index in a list."
   ]
  },
  {
   "cell_type": "code",
   "execution_count": 67,
   "id": "8c149957-1dfd-436d-aec3-c3e91a127ba9",
   "metadata": {},
   "outputs": [
    {
     "name": "stdout",
     "output_type": "stream",
     "text": [
      "Updated list: [10, 20, 25, 30, 40, 50]\n"
     ]
    }
   ],
   "source": [
    "# Example list\n",
    "my_list = [10, 20, 30, 40, 50]\n",
    "\n",
    "# Element to insert\n",
    "new_element = 25\n",
    "\n",
    "# Index at which to insert the element\n",
    "index_to_insert = 2\n",
    "\n",
    "# Insert the new element at the specified index\n",
    "my_list.insert(index_to_insert, new_element)\n",
    "\n",
    "# Print the updated list\n",
    "print(\"Updated list:\", my_list)"
   ]
  },
  {
   "cell_type": "code",
   "execution_count": null,
   "id": "52113d8e-52ad-4be6-b3a9-cefc61fe98b2",
   "metadata": {},
   "outputs": [],
   "source": [
    "### 5. Remove an element from a list by its value."
   ]
  },
  {
   "cell_type": "code",
   "execution_count": 68,
   "id": "a4b518fa-8336-4658-a5ec-5e282541eee8",
   "metadata": {},
   "outputs": [
    {
     "name": "stdout",
     "output_type": "stream",
     "text": [
      "Updated list: [10, 20, 40, 50]\n"
     ]
    }
   ],
   "source": [
    "# Example list\n",
    "my_list = [10, 20, 30, 40, 50]\n",
    "\n",
    "# Element to remove\n",
    "element_to_remove = 30\n",
    "\n",
    "# Remove the element by its value\n",
    "my_list.remove(element_to_remove)\n",
    "\n",
    "# Print the updated list\n",
    "print(\"Updated list:\", my_list)"
   ]
  },
  {
   "cell_type": "code",
   "execution_count": null,
   "id": "0858f1ac-632e-4374-a00a-95aad8d2bf73",
   "metadata": {},
   "outputs": [],
   "source": [
    "### 6. Remove an element from a list by its index."
   ]
  },
  {
   "cell_type": "code",
   "execution_count": 69,
   "id": "c164fdcb-a0b0-44e7-a960-9715e97b2ae5",
   "metadata": {},
   "outputs": [
    {
     "name": "stdout",
     "output_type": "stream",
     "text": [
      "Updated list: [10, 20, 40, 50]\n",
      "Removed element: 30\n"
     ]
    }
   ],
   "source": [
    "# Example list\n",
    "my_list = [10, 20, 30, 40, 50]\n",
    "\n",
    "# Index of the element to remove\n",
    "index_to_remove = 2\n",
    "\n",
    "# Remove the element at the specified index\n",
    "removed_element = my_list.pop(index_to_remove)\n",
    "\n",
    "# Print the updated list and the removed element\n",
    "print(\"Updated list:\", my_list)\n",
    "print(\"Removed element:\", removed_element)"
   ]
  },
  {
   "cell_type": "code",
   "execution_count": null,
   "id": "c665d1d2-a6c1-42d3-acce-4ea4c7aef911",
   "metadata": {},
   "outputs": [],
   "source": [
    "### 7. Check if an element exists in a list."
   ]
  },
  {
   "cell_type": "code",
   "execution_count": 70,
   "id": "feb1747f-8a40-45cc-b378-0c531f1a7d5a",
   "metadata": {},
   "outputs": [
    {
     "name": "stdout",
     "output_type": "stream",
     "text": [
      "30 exists in the list.\n"
     ]
    }
   ],
   "source": [
    "# Example list\n",
    "my_list = [10, 20, 30, 40, 50]\n",
    "\n",
    "# Element to check\n",
    "element_to_check = 30\n",
    "\n",
    "# Check if the element exists in the list\n",
    "if element_to_check in my_list:\n",
    "    print(f\"{element_to_check} exists in the list.\")\n",
    "else:\n",
    "    print(f\"{element_to_check} does not exist in the list.\")"
   ]
  },
  {
   "cell_type": "code",
   "execution_count": null,
   "id": "a921fed8-4cb0-4838-a896-fb9a97e076a3",
   "metadata": {},
   "outputs": [],
   "source": [
    "### 8. Find the index of the first occurrence of an element in a list."
   ]
  },
  {
   "cell_type": "code",
   "execution_count": 71,
   "id": "e5e4f922-a4b6-4472-9cf8-37c7f2c514f1",
   "metadata": {},
   "outputs": [
    {
     "name": "stdout",
     "output_type": "stream",
     "text": [
      "The index of 30 is 2\n"
     ]
    }
   ],
   "source": [
    "# Example list\n",
    "my_list = [10, 20, 30, 40, 50, 30]\n",
    "\n",
    "# Element to find the index of\n",
    "element_to_find = 30\n",
    "\n",
    "# Find the index of the first occurrence of the element\n",
    "index = my_list.index(element_to_find)\n",
    "\n",
    "# Print the index\n",
    "print(f\"The index of {element_to_find} is {index}\")"
   ]
  },
  {
   "cell_type": "code",
   "execution_count": null,
   "id": "c8c6ddbc-3863-45fe-b422-dbe6ef03306c",
   "metadata": {},
   "outputs": [],
   "source": [
    "### 9. Count the occurrences of an element in a list."
   ]
  },
  {
   "cell_type": "code",
   "execution_count": 72,
   "id": "3e85994e-ec1d-4c02-97b1-a0339eba1e90",
   "metadata": {},
   "outputs": [
    {
     "name": "stdout",
     "output_type": "stream",
     "text": [
      "The element 30 occurs 3 times in the list.\n"
     ]
    }
   ],
   "source": [
    "# Example list\n",
    "my_list = [10, 20, 30, 40, 50, 30, 30]\n",
    "\n",
    "# Element to count occurrences of\n",
    "element_to_count = 30\n",
    "\n",
    "# Count the occurrences of the element\n",
    "count = my_list.count(element_to_count)\n",
    "\n",
    "# Print the count\n",
    "print(f\"The element {element_to_count} occurs {count} times in the list.\")"
   ]
  },
  {
   "cell_type": "code",
   "execution_count": null,
   "id": "67ad234c-5a62-4867-86ab-8ae76b256f8b",
   "metadata": {},
   "outputs": [],
   "source": [
    "### 10. Reverse the order of elements in a list."
   ]
  },
  {
   "cell_type": "code",
   "execution_count": 73,
   "id": "974b84fe-55a6-48ae-a23a-024eb61d2214",
   "metadata": {},
   "outputs": [
    {
     "name": "stdout",
     "output_type": "stream",
     "text": [
      "Reversed list: [50, 40, 30, 20, 10]\n"
     ]
    }
   ],
   "source": [
    "# Example list\n",
    "my_list = [10, 20, 30, 40, 50]\n",
    "\n",
    "# Reverse the order of elements in the list\n",
    "my_list.reverse()\n",
    "\n",
    "# Print the reversed list\n",
    "print(\"Reversed list:\", my_list)"
   ]
  },
  {
   "cell_type": "code",
   "execution_count": 74,
   "id": "2605e789-5cdc-4ffc-8e61-60248b20add8",
   "metadata": {},
   "outputs": [],
   "source": [
    "### 11. Sort a list in ascending order."
   ]
  },
  {
   "cell_type": "code",
   "execution_count": 75,
   "id": "24dd9099-919d-4acd-ab19-8f5a01d7ecba",
   "metadata": {},
   "outputs": [
    {
     "name": "stdout",
     "output_type": "stream",
     "text": [
      "sorted list in assending [10, 14, 50, 54, 65, 85]\n"
     ]
    }
   ],
   "source": [
    "my_list = [50,10,54,85,14,65]\n",
    "\n",
    "my_list.sort()\n",
    "print(\"sorted list in assending\",my_list)"
   ]
  },
  {
   "cell_type": "code",
   "execution_count": 76,
   "id": "71b255e7-9ef8-45f9-94c0-3ec798020266",
   "metadata": {},
   "outputs": [],
   "source": [
    "### 12. Sort a list in descending order."
   ]
  },
  {
   "cell_type": "code",
   "execution_count": 77,
   "id": "04ac03dd-43bd-408e-b226-e973780734d5",
   "metadata": {},
   "outputs": [
    {
     "name": "stdout",
     "output_type": "stream",
     "text": [
      "sorted list in descending [85, 65, 54, 50, 14, 10]\n"
     ]
    }
   ],
   "source": [
    "my_list = [50,10,54,85,14,65]\n",
    "\n",
    "my_list.sort(reverse=True)\n",
    "print(\"sorted list in descending\",my_list)"
   ]
  },
  {
   "cell_type": "code",
   "execution_count": 78,
   "id": "4febc3b3-8607-4ea6-a53e-4841f42c4e6b",
   "metadata": {},
   "outputs": [],
   "source": [
    "## 13. Create a list of even numbers from 1 to 20."
   ]
  },
  {
   "cell_type": "code",
   "execution_count": 79,
   "id": "0decfca3-31f6-45ca-b4a2-653cee606d20",
   "metadata": {},
   "outputs": [
    {
     "name": "stdout",
     "output_type": "stream",
     "text": [
      "list of even numbers  [2, 4, 6, 8, 10]\n"
     ]
    }
   ],
   "source": [
    "even_numbers = [x for x in range(2,11,2)]\n",
    "print(\"list of even numbers \",even_numbers)"
   ]
  },
  {
   "cell_type": "code",
   "execution_count": null,
   "id": "baebd919-8609-4268-8137-5115a4b3e172",
   "metadata": {},
   "outputs": [],
   "source": [
    "### 14. Create a list of odd numbers from 1 to 20."
   ]
  },
  {
   "cell_type": "code",
   "execution_count": 83,
   "id": "1cce81f4-5eb2-48f3-956d-7e9918b944b8",
   "metadata": {},
   "outputs": [
    {
     "name": "stdout",
     "output_type": "stream",
     "text": [
      "list of odd numbers [1, 3, 5, 7, 9, 11, 13, 15, 17, 19]\n"
     ]
    }
   ],
   "source": [
    "odd_numbers = [x for x in range(1,21,2)]\n",
    "print(\"list of odd numbers\",odd_numbers)"
   ]
  },
  {
   "cell_type": "code",
   "execution_count": 84,
   "id": "a4a63020-e702-44f9-910e-098d852e9c0d",
   "metadata": {},
   "outputs": [],
   "source": [
    "### 15. Find the sum of all elements in a list."
   ]
  },
  {
   "cell_type": "code",
   "execution_count": 85,
   "id": "591523df-816f-4604-8ccb-4e57e84dbb50",
   "metadata": {},
   "outputs": [
    {
     "name": "stdout",
     "output_type": "stream",
     "text": [
      "Sum of elements: 150\n"
     ]
    }
   ],
   "source": [
    "# Example list\n",
    "my_list = [10, 20, 30, 40, 50]\n",
    "\n",
    "# Calculate the sum of all elements in the list\n",
    "total_sum = sum(my_list)\n",
    "\n",
    "# Print the sum\n",
    "print(\"Sum of elements:\", total_sum)"
   ]
  },
  {
   "cell_type": "code",
   "execution_count": 86,
   "id": "205d2310-6dba-4c4c-944f-dd5e6fc68329",
   "metadata": {},
   "outputs": [],
   "source": [
    "### 16. Find the maximum value in a list."
   ]
  },
  {
   "cell_type": "code",
   "execution_count": 87,
   "id": "e96f9a9d-1148-4d01-8f6f-5056119926c1",
   "metadata": {},
   "outputs": [
    {
     "data": {
      "text/plain": [
       "70"
      ]
     },
     "execution_count": 87,
     "metadata": {},
     "output_type": "execute_result"
    }
   ],
   "source": [
    "my_list = [10,20,30,40,50,60,70]\n",
    "max(my_list)"
   ]
  },
  {
   "cell_type": "code",
   "execution_count": null,
   "id": "4759d98a-bbc9-40cd-b239-ec1fd54a0323",
   "metadata": {},
   "outputs": [],
   "source": [
    "### 17. Find the minimum value in a list."
   ]
  },
  {
   "cell_type": "code",
   "execution_count": 89,
   "id": "b47f4fba-403d-4598-99e7-62b4d2d734c4",
   "metadata": {},
   "outputs": [
    {
     "data": {
      "text/plain": [
       "10"
      ]
     },
     "execution_count": 89,
     "metadata": {},
     "output_type": "execute_result"
    }
   ],
   "source": [
    "my_list = [10,20,30,40,50,60,70]\n",
    "min(my_list)"
   ]
  },
  {
   "cell_type": "code",
   "execution_count": null,
   "id": "84c5d563-83b4-42a0-8adc-4c13fc40a3ed",
   "metadata": {},
   "outputs": [],
   "source": [
    "### 18. Create a list of squares of numbers from 1 to 10."
   ]
  },
  {
   "cell_type": "code",
   "execution_count": 91,
   "id": "65dfe14c-da15-4e0c-bd3b-01154b606f44",
   "metadata": {},
   "outputs": [
    {
     "name": "stdout",
     "output_type": "stream",
     "text": [
      "[1, 4, 9, 16, 25, 36, 49, 64, 81, 100]\n"
     ]
    }
   ],
   "source": [
    "squares = [x**2for x in range(1,11)]\n",
    "print(squares)"
   ]
  },
  {
   "cell_type": "code",
   "execution_count": null,
   "id": "ed91f0c5-7f23-4075-9780-f6a6a265b887",
   "metadata": {},
   "outputs": [],
   "source": [
    "### 19. Create a list of random numbers."
   ]
  },
  {
   "cell_type": "code",
   "execution_count": 92,
   "id": "d293651a-7296-4ddc-8794-b822402b951d",
   "metadata": {},
   "outputs": [
    {
     "name": "stdout",
     "output_type": "stream",
     "text": [
      "List of random integers: [80, 40, 26, 49, 99, 75, 21, 88, 93, 99]\n"
     ]
    }
   ],
   "source": [
    "import random\n",
    "\n",
    "# Create a list of random integers between 1 and 100\n",
    "random_integers = [random.randint(1, 100) for _ in range(10)]\n",
    "\n",
    "# Print the list of random integers\n",
    "print(\"List of random integers:\", random_integers)"
   ]
  },
  {
   "cell_type": "code",
   "execution_count": 93,
   "id": "cbb46e84-5066-4e6d-8599-634da9960cd6",
   "metadata": {},
   "outputs": [],
   "source": [
    "### 20. Remove duplicates from a list."
   ]
  },
  {
   "cell_type": "code",
   "execution_count": 94,
   "id": "538d95de-b78a-49c9-85a2-f99c5a4b9ccf",
   "metadata": {},
   "outputs": [
    {
     "name": "stdout",
     "output_type": "stream",
     "text": [
      "List without duplicates: [40, 10, 50, 20, 30]\n"
     ]
    }
   ],
   "source": [
    "# Example list with duplicates\n",
    "my_list = [10, 20, 30, 20, 40, 10, 50, 30]\n",
    "\n",
    "# Remove duplicates by converting to a set and back to a list\n",
    "unique_list = list(set(my_list))\n",
    "\n",
    "# Print the list without duplicates\n",
    "print(\"List without duplicates:\", unique_list)"
   ]
  },
  {
   "cell_type": "code",
   "execution_count": 98,
   "id": "b86b631f-a425-4022-b92d-a3e5213e3dc7",
   "metadata": {},
   "outputs": [
    {
     "data": {
      "text/plain": [
       "[30, 40, 50]"
      ]
     },
     "execution_count": 98,
     "metadata": {},
     "output_type": "execute_result"
    }
   ],
   "source": [
    "#21.Find the common elements between two lists.\n",
    "a = [30,40,50]\n",
    "b = a\n",
    "b"
   ]
  },
  {
   "cell_type": "code",
   "execution_count": null,
   "id": "d36b4884-c41b-4d9c-931c-02d498cb5222",
   "metadata": {},
   "outputs": [],
   "source": [
    "#22.find the difference between two list"
   ]
  },
  {
   "cell_type": "code",
   "execution_count": 101,
   "id": "ea283cb7-8d5f-4555-8166-afc6b43a0960",
   "metadata": {},
   "outputs": [
    {
     "name": "stdout",
     "output_type": "stream",
     "text": [
      "difference between lists: [20, 10]\n"
     ]
    }
   ],
   "source": [
    "l1 = [10,20,30,40,50]\n",
    "l2 = [30,40,50,60,70]\n",
    "diff = list(set(l1).difference(l2))\n",
    "print(\"difference between lists:\",diff)"
   ]
  },
  {
   "cell_type": "code",
   "execution_count": null,
   "id": "7c8a3dae-2b0f-4115-a67d-836c1948389a",
   "metadata": {},
   "outputs": [],
   "source": [
    "#23. merged two list"
   ]
  },
  {
   "cell_type": "code",
   "execution_count": 102,
   "id": "092485aa-5ced-48bb-9c62-f110aec29633",
   "metadata": {},
   "outputs": [
    {
     "name": "stdout",
     "output_type": "stream",
     "text": [
      "Merged list: [10, 20, 30, 40, 50, 60]\n"
     ]
    }
   ],
   "source": [
    "# Example lists\n",
    "list1 = [10, 20, 30]\n",
    "list2 = [40, 50, 60]\n",
    "\n",
    "# Merge lists using the + operator\n",
    "merged_list = list1 + list2\n",
    "\n",
    "# Print the merged list\n",
    "print(\"Merged list:\", merged_list)"
   ]
  },
  {
   "cell_type": "code",
   "execution_count": 103,
   "id": "80c69a2a-7de2-4e10-a0c3-3d343fe86650",
   "metadata": {},
   "outputs": [],
   "source": [
    "### 24. Multiply all elements in a list by 2."
   ]
  },
  {
   "cell_type": "code",
   "execution_count": 104,
   "id": "f1789824-dfa7-4204-9fd3-7709cc4487b4",
   "metadata": {},
   "outputs": [
    {
     "name": "stdout",
     "output_type": "stream",
     "text": [
      "Multiplied list: [20, 40, 60, 80, 100]\n"
     ]
    }
   ],
   "source": [
    "# Example list\n",
    "my_list = [10, 20, 30, 40, 50]\n",
    "\n",
    "# Multiply all elements by 2 using a list comprehension\n",
    "multiplied_list = [x * 2 for x in my_list]\n",
    "\n",
    "# Print the multiplied list\n",
    "print(\"Multiplied list:\", multiplied_list)"
   ]
  },
  {
   "cell_type": "code",
   "execution_count": null,
   "id": "be6c2460-aca2-4ae1-ab3e-52e4c86e64f5",
   "metadata": {},
   "outputs": [],
   "source": [
    "### 25. Filter out all even numbers from a list."
   ]
  },
  {
   "cell_type": "code",
   "execution_count": 105,
   "id": "40c6520f-844a-4dab-890a-b0067b62876b",
   "metadata": {},
   "outputs": [
    {
     "name": "stdout",
     "output_type": "stream",
     "text": [
      "[1, 3, 5, 7, 9]\n"
     ]
    }
   ],
   "source": [
    "original_list = [1, 2, 3, 4, 5, 6, 7, 8, 9, 10]\n",
    "filtered_list = [x for x in original_list if x % 2 != 0]\n",
    "print(filtered_list)"
   ]
  },
  {
   "cell_type": "code",
   "execution_count": 106,
   "id": "91f77f03-1aa1-476c-a3ea-1fc588c5e543",
   "metadata": {},
   "outputs": [
    {
     "name": "stdout",
     "output_type": "stream",
     "text": [
      "[1, 3, 5, 7, 9]\n"
     ]
    }
   ],
   "source": [
    "original_list = [1, 2, 3, 4, 5, 6, 7, 8, 9, 10]\n",
    "filtered_list = list(filter(lambda x: x % 2 != 0, original_list))\n",
    "print(filtered_list)"
   ]
  },
  {
   "cell_type": "code",
   "execution_count": null,
   "id": "d324abcb-0739-43d0-a4d0-9418e3799c90",
   "metadata": {},
   "outputs": [],
   "source": [
    "### 26. Convert a list of strings to a list of integers."
   ]
  },
  {
   "cell_type": "code",
   "execution_count": 107,
   "id": "3c8fc36b-682e-407d-a189-628904e2cd21",
   "metadata": {},
   "outputs": [
    {
     "name": "stdout",
     "output_type": "stream",
     "text": [
      "[10, 20, 30, 40, 50]\n"
     ]
    }
   ],
   "source": [
    "str_list = ['10','20','30','40','50']\n",
    "int_list = [int(x)for x in str_list]\n",
    "print(int_list)"
   ]
  },
  {
   "cell_type": "code",
   "execution_count": null,
   "id": "1513d037-fe9c-4373-bf68-3c9ca183b33c",
   "metadata": {},
   "outputs": [],
   "source": [
    "### 27. Convert a list of integers to a list of strings."
   ]
  },
  {
   "cell_type": "code",
   "execution_count": 108,
   "id": "41d0adf6-06ff-4f17-9f13-7cfd6bdc3bde",
   "metadata": {},
   "outputs": [
    {
     "name": "stdout",
     "output_type": "stream",
     "text": [
      "List of strings: ['10', '20', '30', '40', '50']\n"
     ]
    }
   ],
   "source": [
    "# Example list of integers\n",
    "integer_list = [10, 20, 30, 40, 50]\n",
    "\n",
    "# Convert list of integers to list of strings using a list comprehension\n",
    "string_list = [str(x) for x in integer_list]\n",
    "\n",
    "# Print the list of strings\n",
    "print(\"List of strings:\", string_list)"
   ]
  },
  {
   "cell_type": "code",
   "execution_count": 109,
   "id": "0eef6e3d-0f0a-4dfa-b66e-46d7b2ff40bb",
   "metadata": {},
   "outputs": [],
   "source": [
    "### 28. Flatten a nested list."
   ]
  },
  {
   "cell_type": "code",
   "execution_count": 110,
   "id": "9fb20ee5-e5ea-4ce9-bd2e-214a11a9e59b",
   "metadata": {},
   "outputs": [
    {
     "name": "stdout",
     "output_type": "stream",
     "text": [
      "Flattened list: [1, 2, 3, 4, 5, 6, 7, 8, 9]\n"
     ]
    }
   ],
   "source": [
    "# Example nested list\n",
    "nested_list = [[1, 2, 3], [4, 5], [6, 7, 8, 9]]\n",
    "\n",
    "# Function to flatten a nested list\n",
    "def flatten_list(nested):\n",
    "    flattened = []\n",
    "    for sublist in nested:\n",
    "        if isinstance(sublist, list):\n",
    "            flattened.extend(flatten_list(sublist))\n",
    "        else:\n",
    "            flattened.append(sublist)\n",
    "    return flattened\n",
    "\n",
    "# Flatten the nested list\n",
    "flattened_list = flatten_list(nested_list)\n",
    "\n",
    "# Print the flattened list\n",
    "print(\"Flattened list:\", flattened_list)"
   ]
  },
  {
   "cell_type": "code",
   "execution_count": null,
   "id": "bf922227-d173-4120-83d1-9e4d201fc995",
   "metadata": {},
   "outputs": [],
   "source": [
    "### 29. Create a list of the first 10 Fibonacci numbers."
   ]
  },
  {
   "cell_type": "code",
   "execution_count": 111,
   "id": "f893d579-ac37-4264-99fa-e81c8dcf617b",
   "metadata": {},
   "outputs": [
    {
     "name": "stdout",
     "output_type": "stream",
     "text": [
      "First 10 Fibonacci numbers: [0, 1]\n"
     ]
    }
   ],
   "source": [
    "# Function to generate the first n Fibonacci numbers\n",
    "def generate_fibonacci(n):\n",
    "    fibonacci_list = [0, 1]  # Initialize the list with the first two Fibonacci numbers\n",
    "\n",
    "    for i in range(2, n):\n",
    "        next_fibonacci = fibonacci_list[i - 1] + fibonacci_list[i - 2]\n",
    "        fibonacci_list.append(next_fibonacci)\n",
    "\n",
    "    return fibonacci_list\n",
    "\n",
    "# Generate the first 10 Fibonacci numbers\n",
    "fibonacci_numbers = generate_fibonacci(2)\n",
    "\n",
    "# Print the list of Fibonacci numbers\n",
    "print(\"First 10 Fibonacci numbers:\", fibonacci_numbers)"
   ]
  },
  {
   "cell_type": "code",
   "execution_count": null,
   "id": "a236dcb4-d43c-47af-bbc2-a16e5373b444",
   "metadata": {},
   "outputs": [],
   "source": [
    "### 30. Check if a list is sorted.\n",
    "  \n",
    " # - Checking for ascending order"
   ]
  },
  {
   "cell_type": "code",
   "execution_count": 112,
   "id": "e69d5429-a056-4db6-9d70-62ed903f2ea8",
   "metadata": {},
   "outputs": [
    {
     "name": "stdout",
     "output_type": "stream",
     "text": [
      "The list is sorted in ascending order.\n"
     ]
    }
   ],
   "source": [
    "# Function to check if a list is sorted in ascending order\n",
    "def is_sorted_ascending(lst):\n",
    "    for i in range(1, len(lst)):\n",
    "        if lst[i] < lst[i - 1]:\n",
    "            return False\n",
    "    return True\n",
    "\n",
    "# Example list\n",
    "ascending_list = [10, 20, 30, 40, 50]\n",
    "\n",
    "# Check if the list is sorted in ascending order\n",
    "if is_sorted_ascending(ascending_list):\n",
    "    print(\"The list is sorted in ascending order.\")\n",
    "else:\n",
    "    print(\"The list is not sorted in ascending order.\")"
   ]
  },
  {
   "cell_type": "code",
   "execution_count": 1,
   "id": "8150a78b-6382-4316-9be2-ffd6f4b3efb4",
   "metadata": {},
   "outputs": [],
   "source": [
    "### 31. Rotate a list to the left by `n` positions."
   ]
  },
  {
   "cell_type": "code",
   "execution_count": 5,
   "id": "bd295e8d-07aa-44dd-a6da-1485b9566fd1",
   "metadata": {},
   "outputs": [
    {
     "name": "stdout",
     "output_type": "stream",
     "text": [
      "Rotated list: [3, 4, 5, 6, 1, 2]\n"
     ]
    }
   ],
   "source": [
    "def rotate_left(lst, n):\n",
    "    n = n % len(lst)  # Normalize n to handle cases where n is larger than the list length\n",
    "    # print(n)\n",
    "    rotated = lst[n:] + lst[:n]\n",
    "    return rotated\n",
    "\n",
    "# Example list\n",
    "my_list = [1, 2, 3, 4, 5, 6]\n",
    "\n",
    "# Number of positions to rotate by\n",
    "n = 2\n",
    "\n",
    "# Rotate the list to the left by n positions\n",
    "rotated_list = rotate_left(my_list, n)\n",
    "\n",
    "# Print the rotated list\n",
    "print(\"Rotated list:\", rotated_list)"
   ]
  },
  {
   "cell_type": "code",
   "execution_count": 6,
   "id": "1c2f1e51-97d9-42c5-ab38-c8bd181a1b85",
   "metadata": {},
   "outputs": [],
   "source": [
    "### 32. Rotate a list to the right by `n` positions."
   ]
  },
  {
   "cell_type": "code",
   "execution_count": 7,
   "id": "862fe0ba-a070-4d07-bb69-180cf4b8b1e1",
   "metadata": {},
   "outputs": [
    {
     "name": "stdout",
     "output_type": "stream",
     "text": [
      "Rotated list: [3, 5, 2, 8, 9]\n"
     ]
    }
   ],
   "source": [
    "def rotate_right(lst,n):\n",
    "    n = n%len(lst)\n",
    "    rotated = lst[-n:]+ lst[:-n]\n",
    "    return rotated\n",
    "my_list = [2,8,9,3,5]\n",
    "n= 2\n",
    "rotated_list = rotate_right(my_list,n)\n",
    "print(\"Rotated list:\",rotated_list)"
   ]
  },
  {
   "cell_type": "code",
   "execution_count": null,
   "id": "d30cab14-0c32-4485-b705-d85e893b6ed2",
   "metadata": {},
   "outputs": [],
   "source": [
    "### 33. Create a list of prime numbers up to 50."
   ]
  },
  {
   "cell_type": "code",
   "execution_count": 8,
   "id": "af54a90c-9088-4a57-8bfa-fee8e1b110ec",
   "metadata": {},
   "outputs": [
    {
     "name": "stdout",
     "output_type": "stream",
     "text": [
      "5 25\n",
      "5 29\n"
     ]
    }
   ],
   "source": [
    "def is_prime(num):\n",
    "    if num<=1:\n",
    "        return False\n",
    "    if num<=3:\n",
    "        return True\n",
    "    if num%2 == 0 or num%3==0:\n",
    "        return False\n",
    "    i =5\n",
    "    while i*i<=num:\n",
    "        print(i,num)\n",
    "        if num%i==0 or num%(i+2)==0:\n",
    "            return False\n",
    "        i += 6\n",
    "        return False\n",
    "prime_numbers = [num for num in range(2,30) if is_prime(num)]"
   ]
  },
  {
   "cell_type": "code",
   "execution_count": 9,
   "id": "d798ea5a-e90c-450e-b742-9be6601e1cfb",
   "metadata": {},
   "outputs": [],
   "source": [
    "### 34. Split a list into chunks of size `n`."
   ]
  },
  {
   "cell_type": "code",
   "execution_count": 10,
   "id": "c2a8529e-e0a4-4563-98d8-f3bfde457c6b",
   "metadata": {},
   "outputs": [
    {
     "name": "stdout",
     "output_type": "stream",
     "text": [
      "List of prime numbers up to 50: [2, 3, 5, 7, 11, 13, 17, 19, 23, 29, 31, 37, 41, 43, 47]\n"
     ]
    }
   ],
   "source": [
    "def sieve_of_eratosthenes(limit):\n",
    "    primes = []\n",
    "    is_prime = [True] * (limit + 1)\n",
    "    is_prime[0] = is_prime[1] = False\n",
    "\n",
    "    for num in range(2, int(limit ** 0.5) + 1):\n",
    "        if is_prime[num]:\n",
    "            primes.append(num)\n",
    "            for multiple in range(num * num, limit + 1, num):\n",
    "                is_prime[multiple] = False\n",
    "\n",
    "    for num in range(int(limit ** 0.5) + 1, limit + 1):\n",
    "        if is_prime[num]:\n",
    "            primes.append(num)\n",
    "\n",
    "    return primes\n",
    "\n",
    "# Create a list of prime numbers up to 50\n",
    "prime_numbers = sieve_of_eratosthenes(50)\n",
    "\n",
    "# Print the list of prime numbers\n",
    "print(\"List of prime numbers up to 50:\", prime_numbers)"
   ]
  },
  {
   "cell_type": "code",
   "execution_count": 11,
   "id": "d6cd0938-5b34-4925-94fd-9d976516f872",
   "metadata": {},
   "outputs": [],
   "source": [
    "### 35. Find the second largest number in a list."
   ]
  },
  {
   "cell_type": "code",
   "execution_count": 14,
   "id": "b5987762-6cb4-4efd-bf71-79a65827faa2",
   "metadata": {},
   "outputs": [
    {
     "name": "stdout",
     "output_type": "stream",
     "text": [
      "second largest number: 50\n"
     ]
    }
   ],
   "source": [
    "my_list = [10,20,30,40,50,60]\n",
    "sorted_list = sorted(set(my_list))\n",
    "if len(sorted_list)>=2:\n",
    "    second_largest = sorted_list[-2]\n",
    "    print(\"second largest number:\",second_largest)\n",
    "else:\n",
    "    print(\"the list does not contain\")"
   ]
  },
  {
   "cell_type": "code",
   "execution_count": null,
   "id": "b92d1374-8589-476c-ba0b-3fff12d991d1",
   "metadata": {},
   "outputs": [],
   "source": [
    "### 36. Replace every element in a list with its square."
   ]
  },
  {
   "cell_type": "code",
   "execution_count": 15,
   "id": "a3607fb6-c62d-457e-9501-9275dac6ec91",
   "metadata": {},
   "outputs": [
    {
     "name": "stdout",
     "output_type": "stream",
     "text": [
      "[4, 16, 36, 64, 100]\n"
     ]
    }
   ],
   "source": [
    "my_list = [2,4,6,8,10]\n",
    "s = [x**2 for x in my_list]\n",
    "print(s)"
   ]
  },
  {
   "cell_type": "code",
   "execution_count": 16,
   "id": "0000e791-57ce-43f7-9a41-02f9c8e33a78",
   "metadata": {},
   "outputs": [],
   "source": [
    "### 37. Convert a list to a dictionary where list elements become keys and their indices become values."
   ]
  },
  {
   "cell_type": "code",
   "execution_count": 17,
   "id": "6dbd05f2-226d-4328-8bed-8dc334557c8e",
   "metadata": {},
   "outputs": [
    {
     "name": "stdout",
     "output_type": "stream",
     "text": [
      "{'apple': 0, 'banana': 1, 'mango': 2, 'cherry': 3}\n"
     ]
    }
   ],
   "source": [
    "l = ['apple','banana','mango','cherry']\n",
    "my_dict = {element:index for index,element in enumerate(l)}\n",
    "print(my_dict)"
   ]
  },
  {
   "cell_type": "code",
   "execution_count": 18,
   "id": "6dfd27fb-6c3d-4b6e-9f58-e5bfac7b8e6f",
   "metadata": {},
   "outputs": [],
   "source": [
    "### 38. Shuffle the elements of a list randomly."
   ]
  },
  {
   "cell_type": "code",
   "execution_count": 19,
   "id": "85339799-1ae7-40a4-8f07-912ee80043c9",
   "metadata": {},
   "outputs": [
    {
     "name": "stdout",
     "output_type": "stream",
     "text": [
      "[4, 5, 3, 1, 2]\n"
     ]
    }
   ],
   "source": [
    "import random\n",
    "my_list = [1,2,3,4,5]\n",
    "random.shuffle(my_list)\n",
    "print(my_list)"
   ]
  },
  {
   "cell_type": "code",
   "execution_count": null,
   "id": "bffca027-2701-47a7-b4c3-54b2c6962a10",
   "metadata": {},
   "outputs": [],
   "source": [
    "### 39. Create a list of the first 10 factorial numbers."
   ]
  },
  {
   "cell_type": "code",
   "execution_count": 20,
   "id": "c980a891-1e41-4c2f-b808-2ddd13f44dad",
   "metadata": {},
   "outputs": [
    {
     "name": "stdout",
     "output_type": "stream",
     "text": [
      "[1, 1, 2, 6, 24, 120, 720, 5040, 40320, 362880]\n"
     ]
    }
   ],
   "source": [
    "def factorial(n):\n",
    "    if n==0 or n == 1:\n",
    "        return 1\n",
    "    else:\n",
    "        return n* factorial(n-1)\n",
    "factorial_numbers = [factorial(i) for i in range(10)]\n",
    "print(factorial_numbers)"
   ]
  },
  {
   "cell_type": "code",
   "execution_count": 21,
   "id": "7b563b93-a0dd-4128-bcc0-c4296188c39c",
   "metadata": {},
   "outputs": [],
   "source": [
    "### 40. Check if two lists have at least one element in common."
   ]
  },
  {
   "cell_type": "code",
   "execution_count": 22,
   "id": "cb5721da-086d-4620-9000-bb0b6d2d3a5c",
   "metadata": {},
   "outputs": [
    {
     "name": "stdout",
     "output_type": "stream",
     "text": [
      "The lists have at least one common element.\n"
     ]
    }
   ],
   "source": [
    "# Function to check if two lists have at least one element in common\n",
    "def has_common_element(list1, list2):\n",
    "    for item in list1:\n",
    "        if item in list2:\n",
    "            return True\n",
    "    return False\n",
    "\n",
    "# Example lists\n",
    "list1 = [1, 2, 3, 4, 5]\n",
    "list2 = [4, 5, 6, 7, 8]\n",
    "\n",
    "# Check if the two lists have at least one element in common\n",
    "if has_common_element(list1, list2):\n",
    "    print(\"The lists have at least one common element.\")\n",
    "else:\n",
    "    print(\"The lists do not have any common elements.\")"
   ]
  },
  {
   "cell_type": "code",
   "execution_count": 24,
   "id": "0b92332a-5f44-46f8-8ce6-8afedc21cbe8",
   "metadata": {},
   "outputs": [
    {
     "name": "stdout",
     "output_type": "stream",
     "text": [
      "[]\n"
     ]
    }
   ],
   "source": [
    "l = [1,2,3,4,5]\n",
    "l.clear()\n",
    "print(l)"
   ]
  },
  {
   "cell_type": "code",
   "execution_count": 25,
   "id": "0b4f9298-71cf-42cd-a5a6-e0f93e36e155",
   "metadata": {},
   "outputs": [],
   "source": [
    "### 42. Replace negative numbers in a list with 0."
   ]
  },
  {
   "cell_type": "code",
   "execution_count": 26,
   "id": "dd1c3cfa-bce9-46f3-987b-c110cffc9ff5",
   "metadata": {},
   "outputs": [
    {
     "name": "stdout",
     "output_type": "stream",
     "text": [
      "[10, 0, 5, 0, 5, 78]\n"
     ]
    }
   ],
   "source": [
    "my_list = [10, -25, 5 , -5, 5 , 78]\n",
    "for i in range(len(my_list)):\n",
    "    if my_list[i]<0:\n",
    "        my_list[i]= 0\n",
    "print(my_list)"
   ]
  },
  {
   "cell_type": "code",
   "execution_count": null,
   "id": "4788e7da-8515-4b37-8ccf-3f62ba75839e",
   "metadata": {},
   "outputs": [],
   "source": [
    "### 43. Convert a string into a list of words."
   ]
  },
  {
   "cell_type": "code",
   "execution_count": 27,
   "id": "8a3e7fe5-b8c2-4baa-a62b-0be9f68a28ad",
   "metadata": {},
   "outputs": [
    {
     "data": {
      "text/plain": [
       "['ajir', 'srivastava']"
      ]
     },
     "execution_count": 27,
     "metadata": {},
     "output_type": "execute_result"
    }
   ],
   "source": [
    "str = \"ajir srivastava\"\n",
    "l = str.split()\n",
    "l"
   ]
  },
  {
   "cell_type": "code",
   "execution_count": null,
   "id": "751c487a-84df-4ad5-903b-e24774d33899",
   "metadata": {},
   "outputs": [],
   "source": [
    "### 44. Convert a list of words into a string."
   ]
  },
  {
   "cell_type": "code",
   "execution_count": 30,
   "id": "505bdc91-d279-4832-9fe5-b87d2127c99e",
   "metadata": {},
   "outputs": [
    {
     "name": "stdout",
     "output_type": "stream",
     "text": [
      "Hello, this is a sample sentence.\n"
     ]
    }
   ],
   "source": [
    "list1= [\"Hello,\", \"this\", \"is\", \"a\", \"sample\", \"sentence.\"]\n",
    "str1 = \" \".join(list1)\n",
    "print(str1)"
   ]
  },
  {
   "cell_type": "code",
   "execution_count": 1,
   "id": "622c8337-0bb1-4837-8fa3-b9c04b5ef1ca",
   "metadata": {},
   "outputs": [],
   "source": [
    "### 45. Create a list of the first `n` powers of 2."
   ]
  },
  {
   "cell_type": "code",
   "execution_count": 2,
   "id": "e368cd3e-8eb7-4d7a-8eb3-3a7cef405a0c",
   "metadata": {},
   "outputs": [
    {
     "name": "stdout",
     "output_type": "stream",
     "text": [
      "5 [1, 2, 4, 8, 16]\n"
     ]
    }
   ],
   "source": [
    "n = 5\n",
    "power = [2** i for i in range(n)]\n",
    "print(n,power)"
   ]
  },
  {
   "cell_type": "code",
   "execution_count": 3,
   "id": "123efdbe-16e2-46e7-b0d7-7bcf959cf920",
   "metadata": {},
   "outputs": [],
   "source": [
    "### 46. Find the longest string in a list of strings."
   ]
  },
  {
   "cell_type": "code",
   "execution_count": 5,
   "id": "eed47fd7-d755-440c-8404-057a59caa8dc",
   "metadata": {},
   "outputs": [
    {
     "name": "stdout",
     "output_type": "stream",
     "text": [
      "ls apple\n",
      "ls banana\n",
      "ls elderberry\n"
     ]
    }
   ],
   "source": [
    "a = [\"apple\",\"banana\",\"cherry\",\"date\",\"elderberry\"]\n",
    "ls = \"\"\n",
    "for s in a:\n",
    "    if len(s)>len(ls):\n",
    "        ls = s\n",
    "        \n",
    "        print(\"ls\",ls)"
   ]
  },
  {
   "cell_type": "code",
   "execution_count": 6,
   "id": "18ae0418-2346-4e86-b7da-887d0809fde7",
   "metadata": {},
   "outputs": [],
   "source": [
    "### 47. Find the shortest string in a list of strings."
   ]
  },
  {
   "cell_type": "code",
   "execution_count": 12,
   "id": "25fcf063-9823-4aa4-9348-d9147b2d4188",
   "metadata": {},
   "outputs": [
    {
     "name": "stdout",
     "output_type": "stream",
     "text": [
      "Shortest string: date\n"
     ]
    }
   ],
   "source": [
    "# Example list of strings\n",
    "string_list = [\"apple\", \"banana\", \"cherry\", \"date\", \"elderberry\"]\n",
    "\n",
    "# Find the shortest string in the list\n",
    "shortest_string = string_list[0]  # Initialize with the first string\n",
    "for s in string_list:\n",
    "    if len(s) < len(shortest_string):\n",
    "        shortest_string = s\n",
    "\n",
    "# Print the shortest string\n",
    "print(\"Shortest string:\", shortest_string)"
   ]
  },
  {
   "cell_type": "code",
   "execution_count": 13,
   "id": "ca492f30-ad27-4fe6-8960-4ace54c97b34",
   "metadata": {},
   "outputs": [],
   "source": [
    "### 48. Create a list of the first `n` triangular numbers."
   ]
  },
  {
   "cell_type": "code",
   "execution_count": 14,
   "id": "b93d5490-4deb-4978-9f4a-5a9e368950b1",
   "metadata": {},
   "outputs": [
    {
     "name": "stdout",
     "output_type": "stream",
     "text": [
      "List of the first 5 triangular numbers: [1, 3, 6, 10, 15]\n"
     ]
    }
   ],
   "source": [
    "def triangular_numbers(n):\n",
    "    return[i* (i+1)//2 for i in range(1,n+ 1)]\n",
    "n = 5\n",
    "triangular_list = triangular_numbers(n)\n",
    "print(\"List of the first\", n, \"triangular numbers:\", triangular_list)"
   ]
  },
  {
   "cell_type": "code",
   "execution_count": 15,
   "id": "485143b8-2fd7-47d7-bf93-7bc0da920625",
   "metadata": {},
   "outputs": [],
   "source": [
    "### 49. Check if a list contains another list as a subsequence."
   ]
  },
  {
   "cell_type": "code",
   "execution_count": 16,
   "id": "a1f780cd-b316-497a-9f3a-e0ef82f6ecf4",
   "metadata": {},
   "outputs": [
    {
     "name": "stdout",
     "output_type": "stream",
     "text": [
      "Main list contains the subsequence.\n"
     ]
    }
   ],
   "source": [
    "# Function to check if a list contains another list as a subsequence\n",
    "def is_subsequence(subsequence, main_list):\n",
    "    subseq_index = 0  # Index for the subsequence elements\n",
    "    for element in main_list:\n",
    "        if element == subsequence[subseq_index]:\n",
    "            subseq_index += 1\n",
    "            if subseq_index == len(subsequence):\n",
    "                return True\n",
    "    return False\n",
    "\n",
    "# Example main list and subsequence\n",
    "main_list = [1, 2, 3, 4, 5, 6, 7, 8, 9, 10]\n",
    "subsequence = [3, 5, 8]\n",
    "\n",
    "# Check if the main list contains the subsequence\n",
    "if is_subsequence(subsequence, main_list):\n",
    "    print(\"Main list contains the subsequence.\")\n",
    "else:\n",
    "    print(\"Main list does not contain the subsequence.\")"
   ]
  },
  {
   "cell_type": "code",
   "execution_count": null,
   "id": "45fbbbed-ee61-4508-971f-03e01c58bcc2",
   "metadata": {},
   "outputs": [],
   "source": [
    "### 50. Swap two elements in a list by their indices."
   ]
  },
  {
   "cell_type": "code",
   "execution_count": 18,
   "id": "1a199186-2d75-4d0f-8755-f52b10c18dd7",
   "metadata": {},
   "outputs": [
    {
     "name": "stdout",
     "output_type": "stream",
     "text": [
      "[1, 4, 3, 2, 5, 6]\n"
     ]
    }
   ],
   "source": [
    "my_list = [1,2,3,4,5,6]\n",
    "ind1 = 1\n",
    "ind2 = 3\n",
    "temp = my_list[ind1]\n",
    "my_list[ind1] = my_list[ind2]\n",
    "my_list[ind2] = temp\n",
    "print(my_list)"
   ]
  },
  {
   "cell_type": "code",
   "execution_count": 19,
   "id": "31c6d43b-c869-4469-9ed6-eaaf237893ae",
   "metadata": {},
   "outputs": [],
   "source": [
    "####tuple BAsed practice problems########"
   ]
  },
  {
   "cell_type": "code",
   "execution_count": 20,
   "id": "24b42348-4ee1-4f72-82b7-986caebda492",
   "metadata": {},
   "outputs": [],
   "source": [
    "### 1. Create a tuple with integers from 1 to 5.\n"
   ]
  },
  {
   "cell_type": "code",
   "execution_count": 2,
   "id": "448e2b25-d6d4-4bdc-94e6-4590e7d4e625",
   "metadata": {},
   "outputs": [
    {
     "name": "stdout",
     "output_type": "stream",
     "text": [
      "50\n"
     ]
    }
   ],
   "source": [
    "t = (10,20,30,40,50)\n",
    "te = t[4]\n",
    "print(te)"
   ]
  },
  {
   "cell_type": "code",
   "execution_count": 3,
   "id": "57e156c5-c1d0-41e0-84a7-aa3e3f25d89b",
   "metadata": {},
   "outputs": [],
   "source": [
    "### 2. Access the third element of a tuple."
   ]
  },
  {
   "cell_type": "code",
   "execution_count": 4,
   "id": "6345686d-ab7b-4dda-b76a-2bf32b09532c",
   "metadata": {},
   "outputs": [
    {
     "name": "stdout",
     "output_type": "stream",
     "text": [
      "40\n"
     ]
    }
   ],
   "source": [
    "t = (10,20,30,40,50)\n",
    "third_element = t[3]\n",
    "print(third_element)"
   ]
  },
  {
   "cell_type": "code",
   "execution_count": 5,
   "id": "840df821-5a57-4b98-b262-1ca0b02fd835",
   "metadata": {},
   "outputs": [],
   "source": [
    "### 3. Find the length of a tuple without using the `len()` function."
   ]
  },
  {
   "cell_type": "code",
   "execution_count": 6,
   "id": "c0009d09-3d91-4d2d-9674-5298a70dd02a",
   "metadata": {},
   "outputs": [
    {
     "data": {
      "text/plain": [
       "6"
      ]
     },
     "execution_count": 6,
     "metadata": {},
     "output_type": "execute_result"
    }
   ],
   "source": [
    "t = (10,20,30,40,50,60)\n",
    "len(t)"
   ]
  },
  {
   "cell_type": "code",
   "execution_count": 7,
   "id": "323d7a44-01a5-42b3-b8f8-8888a83ba488",
   "metadata": {},
   "outputs": [],
   "source": [
    "### 4. Count the occurrences of an element in a tuple."
   ]
  },
  {
   "cell_type": "code",
   "execution_count": 11,
   "id": "5ed3855f-8855-48bf-81e5-000fdbdda1a7",
   "metadata": {},
   "outputs": [
    {
     "name": "stdout",
     "output_type": "stream",
     "text": [
      "The element 20 appears 3 times in the tuple.\n"
     ]
    }
   ],
   "source": [
    "# Step 1: Create a tuple\n",
    "my_tuple = (10, 20, 30, 20, 40, 50, 20)\n",
    "\n",
    "# Step 2: Choose the element to count occurrences of\n",
    "element_to_count = 20\n",
    "\n",
    "# Step 3: Initialize a variable to keep track of the count\n",
    "count = 0\n",
    "\n",
    "# Step 4: Iterate through the tuple and count occurrences of the chosen element\n",
    "for item in my_tuple:\n",
    "    if item == element_to_count:\n",
    "        count += 1\n",
    "\n",
    "# Step 5: Print the count of occurrences\n",
    "print(f\"The element {element_to_count} appears {count} times in the tuple.\")"
   ]
  },
  {
   "cell_type": "code",
   "execution_count": null,
   "id": "e3ebf287-c14e-4f02-8548-fa651bf065a1",
   "metadata": {},
   "outputs": [],
   "source": [
    "### 5. Find the index of the first occurrence of an element in a tuple."
   ]
  },
  {
   "cell_type": "code",
   "execution_count": 13,
   "id": "2b39c092-1d8d-4f45-a1d5-333e0dd5c434",
   "metadata": {},
   "outputs": [
    {
     "name": "stdout",
     "output_type": "stream",
     "text": [
      "The first occurrence of 20 is at index 1.\n"
     ]
    }
   ],
   "source": [
    "# Step 1: Create a tuple\n",
    "my_tuple = (10, 20, 30, 20, 40, 50)\n",
    "\n",
    "# Step 2: Choose the element to find the index of\n",
    "element_to_find = 20\n",
    "\n",
    "# Step 3: Initialize a variable to keep track of the index\n",
    "index = -1  # Initialize with -1 to indicate that the element was not found\n",
    "\n",
    "# Step 4: Iterate through the tuple and find the index of the chosen element\n",
    "for i, item in enumerate(my_tuple):\n",
    "    if item == element_to_find:\n",
    "        index = i\n",
    "        break  # Exit the loop once the first occurrence is found\n",
    "\n",
    "# Step 5: Print the index of the first occurrence\n",
    "if index != -1:\n",
    "    print(f\"The first occurrence of {element_to_find} is at index {index}.\")\n",
    "else:\n",
    "    print(f\"{element_to_find} is not found in the tuple.\")"
   ]
  },
  {
   "cell_type": "code",
   "execution_count": 14,
   "id": "e7904412-f562-452b-898f-3846965c71c0",
   "metadata": {},
   "outputs": [],
   "source": [
    "### 6. Check if an element exists in a tuple."
   ]
  },
  {
   "cell_type": "code",
   "execution_count": 16,
   "id": "5b6ee4fc-58b2-43f7-afa3-c5db1144100a",
   "metadata": {},
   "outputs": [
    {
     "name": "stdout",
     "output_type": "stream",
     "text": [
      " 30exists in the tuple\n"
     ]
    }
   ],
   "source": [
    "t = (10,20,30,40,50)\n",
    "element_to_check = 30\n",
    "if element_to_check in t:\n",
    "    print(f\" {element_to_check}exists in the tuple\")\n",
    "else:\n",
    "    print(f\" {element_to_check} does not exists in the tuple\")"
   ]
  },
  {
   "cell_type": "code",
   "execution_count": 17,
   "id": "54d95da7-2cee-43f7-8881-3aa887ba52df",
   "metadata": {},
   "outputs": [],
   "source": [
    "### 7. Convert a tuple to a list."
   ]
  },
  {
   "cell_type": "code",
   "execution_count": 19,
   "id": "e31f7736-1b26-4242-8b28-058873664156",
   "metadata": {},
   "outputs": [
    {
     "data": {
      "text/plain": [
       "[10, 20, 30, 40, 50]"
      ]
     },
     "execution_count": 19,
     "metadata": {},
     "output_type": "execute_result"
    }
   ],
   "source": [
    "t = (10,20,30,40,50)\n",
    "list(t)\n"
   ]
  },
  {
   "cell_type": "code",
   "execution_count": 20,
   "id": "06a40733-6366-4672-9c8c-065aed181323",
   "metadata": {},
   "outputs": [],
   "source": [
    "### 8. Convert a list to a tuple."
   ]
  },
  {
   "cell_type": "code",
   "execution_count": 21,
   "id": "6da24211-f1f1-493b-a13f-2bce9d9f9df3",
   "metadata": {},
   "outputs": [
    {
     "data": {
      "text/plain": [
       "(10, 20, 30, 40, 50)"
      ]
     },
     "execution_count": 21,
     "metadata": {},
     "output_type": "execute_result"
    }
   ],
   "source": [
    "l = [10,20,30,40,50]\n",
    "tuple(l)"
   ]
  },
  {
   "cell_type": "code",
   "execution_count": 22,
   "id": "18f93683-f2f9-4f2d-85b6-4f5aa70c9266",
   "metadata": {},
   "outputs": [],
   "source": [
    "### 9. Unpack the elements of a tuple into variables."
   ]
  },
  {
   "cell_type": "code",
   "execution_count": 24,
   "id": "7ee7b034-259f-404d-9ef2-486004bf99ba",
   "metadata": {},
   "outputs": [
    {
     "name": "stdout",
     "output_type": "stream",
     "text": [
      "a 10\n",
      "b 20\n",
      "c 30\n",
      "d 40\n",
      "e 50\n"
     ]
    }
   ],
   "source": [
    "t = (10,20,30,40,50)\n",
    "a,b,c,d,e = t\n",
    "print(\"a\",a)\n",
    "print(\"b\",b)\n",
    "print(\"c\",c)\n",
    "print(\"d\",d)\n",
    "print(\"e\",e)\n"
   ]
  },
  {
   "cell_type": "code",
   "execution_count": 25,
   "id": "bfc74a32-f2e5-4c63-b711-b12b9cbd1bea",
   "metadata": {},
   "outputs": [],
   "source": [
    "### 10. Create a tuple of even numbers from 1 to 10."
   ]
  },
  {
   "cell_type": "code",
   "execution_count": 26,
   "id": "e318cf5f-a5bc-4aaa-ab35-2d279609043c",
   "metadata": {},
   "outputs": [
    {
     "data": {
      "text/plain": [
       "[2, 4, 6, 8, 10]"
      ]
     },
     "execution_count": 26,
     "metadata": {},
     "output_type": "execute_result"
    }
   ],
   "source": [
    "t = [num for num in range(2,11,2)]\n",
    "e = tuple(t)\n",
    "t"
   ]
  },
  {
   "cell_type": "code",
   "execution_count": 27,
   "id": "0d8ec468-7006-43a3-aedb-16d2e30e4ba7",
   "metadata": {},
   "outputs": [],
   "source": [
    "### 11. Create a tuple of odd numbers from 1 to 10.\n"
   ]
  },
  {
   "cell_type": "code",
   "execution_count": 31,
   "id": "79c547a7-72ad-469d-aac7-80a3d7b8cdbb",
   "metadata": {},
   "outputs": [
    {
     "data": {
      "text/plain": [
       "[1, 3, 5, 7, 9]"
      ]
     },
     "execution_count": 31,
     "metadata": {},
     "output_type": "execute_result"
    }
   ],
   "source": [
    "t = [num for num in range(1,11,2)]\n",
    "e = tuple(t)\n",
    "t"
   ]
  },
  {
   "cell_type": "code",
   "execution_count": 32,
   "id": "887969d7-074c-40b9-93e1-8dd22a8774b4",
   "metadata": {},
   "outputs": [],
   "source": [
    "### 12. Concatenate two tuples."
   ]
  },
  {
   "cell_type": "code",
   "execution_count": 36,
   "id": "0a0a56ab-7633-4345-a698-a65dfcef1864",
   "metadata": {},
   "outputs": [
    {
     "data": {
      "text/plain": [
       "(1, 2, 3, 4, 5, 6)"
      ]
     },
     "execution_count": 36,
     "metadata": {},
     "output_type": "execute_result"
    }
   ],
   "source": [
    "t1 = (1,2,3)\n",
    "t2 = (4,5,6)\n",
    "t = t1+t2\n",
    "\n",
    "t"
   ]
  },
  {
   "cell_type": "code",
   "execution_count": 37,
   "id": "5bc8c372-003f-4232-a1c1-e00fd4aca469",
   "metadata": {},
   "outputs": [
    {
     "data": {
      "text/plain": [
       "(1, 2, 3, 1, 2, 3, 1, 2, 3)"
      ]
     },
     "execution_count": 37,
     "metadata": {},
     "output_type": "execute_result"
    }
   ],
   "source": [
    "t = (1,2,3)\n",
    "r = t*3\n",
    "r"
   ]
  },
  {
   "cell_type": "code",
   "execution_count": 38,
   "id": "dd0e2f8d-36de-4bc8-b30a-9268c9ff021a",
   "metadata": {},
   "outputs": [],
   "source": [
    "### 14. Check if a tuple is empty."
   ]
  },
  {
   "cell_type": "code",
   "execution_count": 39,
   "id": "d5bb592b-84fa-4626-8f2e-a14d66644ffb",
   "metadata": {},
   "outputs": [
    {
     "name": "stdout",
     "output_type": "stream",
     "text": [
      "the empty tuple is empty.\n",
      "the non empty tuple is empty\n"
     ]
    }
   ],
   "source": [
    "et  = ()\n",
    "net = (1,2,3)\n",
    "if not et:\n",
    "    print(\"the empty tuple is empty.\")\n",
    "else:\n",
    "    print(\"the empty tuple is not empty\")\n",
    "if not et:\n",
    "    print(\"the non empty tuple is empty\")\n",
    "else:\n",
    "    print(\"the non empty tuple is not empty\")\n",
    "    \n",
    "    \n",
    "    "
   ]
  },
  {
   "cell_type": "code",
   "execution_count": 40,
   "id": "617d04e3-36bd-428a-8bd2-af3ccbf370b2",
   "metadata": {},
   "outputs": [],
   "source": [
    "### 15. Create a nested tuple."
   ]
  },
  {
   "cell_type": "code",
   "execution_count": 41,
   "id": "41593952-31cd-4a9c-891c-7f4238b9ff19",
   "metadata": {},
   "outputs": [
    {
     "data": {
      "text/plain": [
       "((1, 2, 3), ('a', 'b', 'c'), (True, False))"
      ]
     },
     "execution_count": 41,
     "metadata": {},
     "output_type": "execute_result"
    }
   ],
   "source": [
    "nt = ((1,2,3),('a','b','c'),(True , False))\n",
    "nt"
   ]
  },
  {
   "cell_type": "code",
   "execution_count": 43,
   "id": "cce015a4-b962-4dde-bc39-26ceecdeea94",
   "metadata": {},
   "outputs": [
    {
     "data": {
      "text/plain": [
       "('a', 'b', 'c')"
      ]
     },
     "execution_count": 43,
     "metadata": {},
     "output_type": "execute_result"
    }
   ],
   "source": [
    "nt = ((1,2,3),('a','b','c'),(True , False))\n",
    "nt[1]"
   ]
  },
  {
   "cell_type": "code",
   "execution_count": 44,
   "id": "1d3cf7c8-16bc-4f3e-b221-584c48c96c89",
   "metadata": {},
   "outputs": [],
   "source": [
    "### 17. Create a tuple with a single element."
   ]
  },
  {
   "cell_type": "code",
   "execution_count": 45,
   "id": "7acd7c21-bdc5-4d20-9825-1b85db9f88ad",
   "metadata": {},
   "outputs": [
    {
     "data": {
      "text/plain": [
       "(46,)"
      ]
     },
     "execution_count": 45,
     "metadata": {},
     "output_type": "execute_result"
    }
   ],
   "source": [
    "t = (46,)\n",
    "t"
   ]
  },
  {
   "cell_type": "code",
   "execution_count": 46,
   "id": "0f246731-7262-40eb-b535-f2990cd9a0e0",
   "metadata": {},
   "outputs": [],
   "source": [
    "### 18. Compare two tuples."
   ]
  },
  {
   "cell_type": "code",
   "execution_count": 47,
   "id": "e9b0d2fb-7433-4f6b-9018-1b689b381d7d",
   "metadata": {},
   "outputs": [
    {
     "name": "stdout",
     "output_type": "stream",
     "text": [
      "tuple1 == tuple2: False\n",
      "tuple1 != tuple2: True\n",
      "tuple1 < tuple2: True\n",
      "tuple1 <= tuple2: True\n",
      "tuple1 > tuple2: False\n",
      "tuple1 >= tuple2: False\n"
     ]
    }
   ],
   "source": [
    "tuple1 = (1,2,3,4)\n",
    "tuple2 = (5,6,7,8)\n",
    "print(\"tuple1 == tuple2:\", tuple1 == tuple2)  # Equality check\n",
    "print(\"tuple1 != tuple2:\", tuple1 != tuple2)  # Inequality check\n",
    "print(\"tuple1 < tuple2:\", tuple1 < tuple2)    # Less than check\n",
    "print(\"tuple1 <= tuple2:\", tuple1 <= tuple2)  # Less than or equal to check\n",
    "print(\"tuple1 > tuple2:\", tuple1 > tuple2)    # Greater than check\n",
    "print(\"tuple1 >= tuple2:\", tuple1 >= tuple2)  # Greater than or equal to check"
   ]
  },
  {
   "cell_type": "code",
   "execution_count": 50,
   "id": "235ae353-432f-42c1-a2e6-ddb483f65d4c",
   "metadata": {},
   "outputs": [],
   "source": [
    "##19. delete a tuple"
   ]
  },
  {
   "cell_type": "code",
   "execution_count": 56,
   "id": "fa81cc10-560d-461a-8342-e30d34328246",
   "metadata": {},
   "outputs": [
    {
     "name": "stdout",
     "output_type": "stream",
     "text": [
      "(1, 2, 4, 5)\n"
     ]
    }
   ],
   "source": [
    "my_tuple = (1, 2, 3, 4, 5)\n",
    "\n",
    "# Element you want to delete\n",
    "element_to_delete = 3\n",
    "\n",
    "# Create a new tuple without the specified element\n",
    "new_tuple = tuple(item for item in my_tuple if item != element_to_delete)\n",
    "\n",
    "print(new_tuple)"
   ]
  },
  {
   "cell_type": "code",
   "execution_count": 57,
   "id": "b747c28d-d372-4858-b31e-57de7e768590",
   "metadata": {},
   "outputs": [],
   "source": [
    "### 20. Slice a tuple.\n"
   ]
  },
  {
   "cell_type": "code",
   "execution_count": 58,
   "id": "068d775c-b8af-4410-8332-7233f14d39a2",
   "metadata": {},
   "outputs": [
    {
     "data": {
      "text/plain": [
       "(3, 4, 5)"
      ]
     },
     "execution_count": 58,
     "metadata": {},
     "output_type": "execute_result"
    }
   ],
   "source": [
    "t = (1,2,3,4,5,6)\n",
    "s = t[2:5]\n",
    "s"
   ]
  },
  {
   "cell_type": "code",
   "execution_count": null,
   "id": "a88b7f49-d304-4646-ab8b-160c05667ce7",
   "metadata": {},
   "outputs": [],
   "source": [
    "### 21. Find the maximum value in a tuple."
   ]
  },
  {
   "cell_type": "code",
   "execution_count": 59,
   "id": "4dafe6a1-ee51-41fc-8fac-a81116ab0ebc",
   "metadata": {},
   "outputs": [
    {
     "data": {
      "text/plain": [
       "70"
      ]
     },
     "execution_count": 59,
     "metadata": {},
     "output_type": "execute_result"
    }
   ],
   "source": [
    "t = (10,20,30,40,50,60,70)\n",
    "max(t)"
   ]
  },
  {
   "cell_type": "code",
   "execution_count": 60,
   "id": "1a4d3f6f-7672-40ca-99ac-294c6c2d4ced",
   "metadata": {},
   "outputs": [],
   "source": [
    "### 22. Find the minimum value in a tuple."
   ]
  },
  {
   "cell_type": "code",
   "execution_count": 61,
   "id": "0b28744e-3f8d-417f-a2d2-cb11a1f95f34",
   "metadata": {},
   "outputs": [
    {
     "data": {
      "text/plain": [
       "10"
      ]
     },
     "execution_count": 61,
     "metadata": {},
     "output_type": "execute_result"
    }
   ],
   "source": [
    "t = (10,20,30,40,50,60,70)\n",
    "min(t)"
   ]
  },
  {
   "cell_type": "code",
   "execution_count": null,
   "id": "db6a962b-a9cc-48de-bf28-3624f6d19b24",
   "metadata": {},
   "outputs": [],
   "source": [
    "### 23. Convert a string to a tuple of characters."
   ]
  },
  {
   "cell_type": "code",
   "execution_count": 62,
   "id": "dba380c4-b691-436e-8def-60c6b83e4a1a",
   "metadata": {},
   "outputs": [
    {
     "data": {
      "text/plain": [
       "('o', 'k', ' ', 'g', 'o', 'o', 'g', 'l', 'e')"
      ]
     },
     "execution_count": 62,
     "metadata": {},
     "output_type": "execute_result"
    }
   ],
   "source": [
    "st = \"ok google\"\n",
    "t = tuple(st)\n",
    "t"
   ]
  },
  {
   "cell_type": "code",
   "execution_count": null,
   "id": "1db2e996-d0c8-433e-bc68-daae489072f4",
   "metadata": {},
   "outputs": [],
   "source": [
    "### 24. Convert a tuple of characters to a string."
   ]
  },
  {
   "cell_type": "code",
   "execution_count": 65,
   "id": "e83c4647-40ce-47df-825c-52c25e0438c7",
   "metadata": {},
   "outputs": [
    {
     "data": {
      "text/plain": [
       "'ok google'"
      ]
     },
     "execution_count": 65,
     "metadata": {},
     "output_type": "execute_result"
    }
   ],
   "source": [
    "t = ('o', 'k', ' ', 'g', 'o', 'o', 'g', 'l', 'e')\n",
    "st = ''.join(t)\n",
    "st"
   ]
  },
  {
   "cell_type": "code",
   "execution_count": 1,
   "id": "e37f26c9-f844-4a24-8982-455065a32c1a",
   "metadata": {},
   "outputs": [],
   "source": [
    "### 25. Create a tuple from multiple data types."
   ]
  },
  {
   "cell_type": "code",
   "execution_count": 2,
   "id": "d1bb870b-3db9-4f58-b8d1-8d7e9fbdb35f",
   "metadata": {},
   "outputs": [
    {
     "name": "stdout",
     "output_type": "stream",
     "text": [
      "(1, 'hello', 3.14, True)\n"
     ]
    }
   ],
   "source": [
    "mt = (1,\"hello\",3.14,True)\n",
    "print(mt)"
   ]
  },
  {
   "cell_type": "code",
   "execution_count": 4,
   "id": "1cbd9286-7845-4bc6-bdfd-0530933b92af",
   "metadata": {},
   "outputs": [],
   "source": [
    "### 26. Check if two tuples are identical."
   ]
  },
  {
   "cell_type": "code",
   "execution_count": 5,
   "id": "e5b3cf32-818e-4159-ac55-fcca9f987131",
   "metadata": {},
   "outputs": [
    {
     "name": "stdout",
     "output_type": "stream",
     "text": [
      "True\n",
      "False\n"
     ]
    }
   ],
   "source": [
    "t1 = (1,2,3)\n",
    "t2 = (1,2,3)\n",
    "t3 = (4,5,6)\n",
    "aid1 = t1==t2\n",
    "aid2 = t1==t3\n",
    "print(aid1)\n",
    "print(aid2)\n"
   ]
  },
  {
   "cell_type": "code",
   "execution_count": 6,
   "id": "f723dd0d-016d-45d3-903c-58c8924a184b",
   "metadata": {},
   "outputs": [],
   "source": [
    "### 27. Sort the elements of a tuple."
   ]
  },
  {
   "cell_type": "code",
   "execution_count": 7,
   "id": "bcb1b8ab-49f0-47ca-9358-0954aa914f83",
   "metadata": {},
   "outputs": [
    {
     "name": "stdout",
     "output_type": "stream",
     "text": [
      "(2, 3, 4, 5, 8)\n"
     ]
    }
   ],
   "source": [
    "mt = (5,2,3,4,8)\n",
    "st = tuple(sorted(mt))\n",
    "print(st)"
   ]
  },
  {
   "cell_type": "code",
   "execution_count": 8,
   "id": "bd6a2986-7b5e-4908-9d56-58bac1070742",
   "metadata": {},
   "outputs": [],
   "source": [
    "### 28. Convert a tuple of integers to a tuple of strings.\n"
   ]
  },
  {
   "cell_type": "code",
   "execution_count": 15,
   "id": "cc07a2cc-cdae-42be-9c4a-5035f82a7fa9",
   "metadata": {},
   "outputs": [
    {
     "name": "stdout",
     "output_type": "stream",
     "text": [
      "tos: ('1', '2', '3', '4', '5')\n"
     ]
    }
   ],
   "source": [
    "toi = (1,2,3,4,5)\n",
    "tos = tuple(str(item) for item in toi)\n",
    "print(\"tos:\",tos)\n"
   ]
  },
  {
   "cell_type": "code",
   "execution_count": 16,
   "id": "db3d543b-f60f-48b2-92b4-893cfce28d8f",
   "metadata": {},
   "outputs": [],
   "source": [
    "### 30. Merge two tuples.\n"
   ]
  },
  {
   "cell_type": "code",
   "execution_count": 18,
   "id": "cb223906-5578-44cd-8466-29e2a921bb92",
   "metadata": {},
   "outputs": [
    {
     "data": {
      "text/plain": [
       "(1, 2, 3, 4, 5, 6)"
      ]
     },
     "execution_count": 18,
     "metadata": {},
     "output_type": "execute_result"
    }
   ],
   "source": [
    "t1 = (1,2,3)\n",
    "t2 = (4,5,6)\n",
    "merged_tuple = t1+t2\n",
    "merged_tuple"
   ]
  },
  {
   "cell_type": "code",
   "execution_count": 19,
   "id": "eef81ceb-f241-40a4-ae3d-186be4439398",
   "metadata": {},
   "outputs": [],
   "source": [
    "### 31. Flatten a nested tuple."
   ]
  },
  {
   "cell_type": "code",
   "execution_count": 20,
   "id": "9a82a4a6-adcc-4e62-a597-d1cafe870072",
   "metadata": {},
   "outputs": [
    {
     "name": "stdout",
     "output_type": "stream",
     "text": [
      "Flattened tuple: (1, 2, 3, 4, 5, 6, 7, 8)\n"
     ]
    }
   ],
   "source": [
    "def flatten_tuple(nested_tuple):\n",
    "    flattened = []\n",
    "    for item in nested_tuple:\n",
    "        if isinstance(item, tuple):\n",
    "            flattened.extend(flatten_tuple(item))\n",
    "        else:\n",
    "            flattened.append(item)\n",
    "    return flattened\n",
    "\n",
    "# Step 1: Create a nested tuple\n",
    "nested_tuple = ((1, 2), (3, 4, 5), (6, (7, 8)))\n",
    "\n",
    "# Step 2: Flatten the nested tuple\n",
    "flattened_tuple = tuple(flatten_tuple(nested_tuple))\n",
    "\n",
    "# Step 3: Print the flattened tuple\n",
    "print(\"Flattened tuple:\", flattened_tuple)"
   ]
  },
  {
   "cell_type": "code",
   "execution_count": 21,
   "id": "9c2bd9d2-9ea6-471d-add6-f33d7b0b623e",
   "metadata": {},
   "outputs": [],
   "source": [
    "### 32. Create a tuple of the first 5 prime numbers."
   ]
  },
  {
   "cell_type": "code",
   "execution_count": 22,
   "id": "f6181c6e-3b07-4774-8391-0d8acc778507",
   "metadata": {},
   "outputs": [
    {
     "name": "stdout",
     "output_type": "stream",
     "text": [
      "Tuple of the first 5 prime numbers: (2, 3, 5, 7, 11)\n"
     ]
    }
   ],
   "source": [
    "def is_prime(num):\n",
    "    if num<=1:\n",
    "        return False\n",
    "    for i in range(2,int(num**0.5)+1):\n",
    "        if num%i==0:\n",
    "            return False\n",
    "    return True\n",
    "prime_numbers_list = [num for num in range(2,100)if is_prime(num)][:5]\n",
    "prime_numbers_tuple = tuple(prime_numbers_list)\n",
    "\n",
    "# Print the tuple of prime numbers\n",
    "print(\"Tuple of the first 5 prime numbers:\", prime_numbers_tuple)"
   ]
  },
  {
   "cell_type": "code",
   "execution_count": 24,
   "id": "9c88cc4d-2fce-4524-a900-41029b234b40",
   "metadata": {},
   "outputs": [],
   "source": [
    "### 33. Check if a tuple is a palindrome."
   ]
  },
  {
   "cell_type": "code",
   "execution_count": 25,
   "id": "4a2e2b99-f4cf-41a4-8912-0f9bf400eff6",
   "metadata": {},
   "outputs": [
    {
     "name": "stdout",
     "output_type": "stream",
     "text": [
      "palindrome_tuple is a palindrome: True\n",
      "non_palindrome_tuple is a palindrome: False\n"
     ]
    }
   ],
   "source": [
    "def is_palindrome(tup):\n",
    "    return tup == tup[::-1]\n",
    "\n",
    "# Create tuples for testing\n",
    "palindrome_tuple = (1, 2, 3, 2, 1)\n",
    "non_palindrome_tuple = (1, 2, 3, 4, 5)\n",
    "\n",
    "# Check if the tuples are palindromes\n",
    "is_palindrome1 = is_palindrome(palindrome_tuple)\n",
    "is_palindrome2 = is_palindrome(non_palindrome_tuple)\n",
    "\n",
    "# Print the results\n",
    "print(\"palindrome_tuple is a palindrome:\", is_palindrome1)\n",
    "print(\"non_palindrome_tuple is a palindrome:\", is_palindrome2)"
   ]
  },
  {
   "cell_type": "code",
   "execution_count": 26,
   "id": "2a6e098b-fe16-422e-a7ac-1b7f02bbdae7",
   "metadata": {},
   "outputs": [],
   "source": [
    "### 35. Filter out all even numbers from a tuple."
   ]
  },
  {
   "cell_type": "code",
   "execution_count": 33,
   "id": "3b05fe64-592e-47cc-9f68-dc4d52256c47",
   "metadata": {},
   "outputs": [
    {
     "name": "stdout",
     "output_type": "stream",
     "text": [
      "ft: (2, 4, 6, 8)\n"
     ]
    }
   ],
   "source": [
    "ot = (1,2,3,4,5,6,7,8,9)\n",
    "ft = tuple(filter(lambda x: x % 2 == 0, ot))\n",
    "print(\"ft:\",ft)\n",
    "    \n",
    "    "
   ]
  },
  {
   "cell_type": "code",
   "execution_count": 34,
   "id": "1f19e5de-be79-4e5c-bee7-f83f331e3b2e",
   "metadata": {},
   "outputs": [],
   "source": [
    "### 36. Multiply all elements in a tuple by 2.\n"
   ]
  },
  {
   "cell_type": "code",
   "execution_count": 36,
   "id": "13a0b2be-7bf6-4ac3-a639-36d5dc99a809",
   "metadata": {},
   "outputs": [
    {
     "data": {
      "text/plain": [
       "(2, 4, 6, 8, 10)"
      ]
     },
     "execution_count": 36,
     "metadata": {},
     "output_type": "execute_result"
    }
   ],
   "source": [
    "t = (1,2,3,4,5)\n",
    "dt = tuple(num*2 for num in t)\n",
    "dt"
   ]
  },
  {
   "cell_type": "code",
   "execution_count": 41,
   "id": "76a20795-28de-4d3d-863a-25a127ecf4cd",
   "metadata": {},
   "outputs": [
    {
     "data": {
      "text/plain": [
       "(5850, 8675, 7340, 8154, 1751, 7517, 5270, 3813, 3498, 7732)"
      ]
     },
     "execution_count": 41,
     "metadata": {},
     "output_type": "execute_result"
    }
   ],
   "source": [
    "import random\n",
    "random_t = tuple(random.randint(1,10000) for _ in range(10))\n",
    "random_t"
   ]
  },
  {
   "cell_type": "code",
   "execution_count": 42,
   "id": "b6c76928-e7a9-44c2-a426-87bee88a2114",
   "metadata": {},
   "outputs": [],
   "source": [
    "### 38. Check if a tuple is sorted."
   ]
  },
  {
   "cell_type": "code",
   "execution_count": 43,
   "id": "c83870ee-9eeb-4a25-8565-35ccc8f8a3e7",
   "metadata": {},
   "outputs": [
    {
     "name": "stdout",
     "output_type": "stream",
     "text": [
      "sorted_tuple is sorted: True\n",
      "unsorted_tuple is sorted: False\n"
     ]
    }
   ],
   "source": [
    "# Function to check if a tuple is sorted\n",
    "def is_sorted(tup):\n",
    "    for i in range(len(tup) - 1):\n",
    "        if tup[i] > tup[i + 1]:\n",
    "            return False\n",
    "    return True\n",
    "\n",
    "# Create tuples for testing\n",
    "sorted_tuple = (1, 2, 3, 4, 5)\n",
    "unsorted_tuple = (5, 3, 1, 4, 2)\n",
    "\n",
    "# Check if the tuples are sorted\n",
    "is_sorted1 = is_sorted(sorted_tuple)\n",
    "is_sorted2 = is_sorted(unsorted_tuple)\n",
    "\n",
    "# Print the results\n",
    "print(\"sorted_tuple is sorted:\", is_sorted1)\n",
    "print(\"unsorted_tuple is sorted:\", is_sorted2)"
   ]
  },
  {
   "cell_type": "code",
   "execution_count": 44,
   "id": "6882c99b-2c67-4b16-bd00-d4d76853cc20",
   "metadata": {},
   "outputs": [],
   "source": [
    "### 39. Rotate a tuple to the left by `n` positions."
   ]
  },
  {
   "cell_type": "code",
   "execution_count": 45,
   "id": "2525202d-1258-4f95-97c4-8ad396070260",
   "metadata": {},
   "outputs": [
    {
     "data": {
      "text/plain": [
       "(3, 4, 5, 6, 3, 4, 5, 6)"
      ]
     },
     "execution_count": 45,
     "metadata": {},
     "output_type": "execute_result"
    }
   ],
   "source": [
    "def rtl(tup,n):\n",
    "    \n",
    "\n",
    "    n= n%len(tup)\n",
    "    rt = tup[n:]+tup[n:]\n",
    "    return rt\n",
    "\n",
    "mt = (1,2,3,4,5,6)\n",
    "n_positions = 2\n",
    "r = rtl(mt,n_positions)\n",
    "r"
   ]
  },
  {
   "cell_type": "code",
   "execution_count": 46,
   "id": "85cdf150-9ece-4ef6-8ec8-05af2f4fb055",
   "metadata": {},
   "outputs": [],
   "source": [
    "### 40. Rotate a tuple to the right by `n` positions.\n"
   ]
  },
  {
   "cell_type": "code",
   "execution_count": 47,
   "id": "624224bd-c73d-4584-8fc3-b5c242af17cc",
   "metadata": {},
   "outputs": [
    {
     "name": "stdout",
     "output_type": "stream",
     "text": [
      "(4, 5, 1, 2, 3)\n"
     ]
    }
   ],
   "source": [
    "def rotate_tuple_right(tup, n):\n",
    "    n = n % len(tup)  # Ensure n is within the range of tuple length\n",
    "    rotated_tuple = tup[-n:] + tup[:-n]  # Rotate the tuple\n",
    "    return rotated_tuple\n",
    "\n",
    "# Example tuple\n",
    "my_tuple = (1, 2, 3, 4, 5)\n",
    "n_positions = 2\n",
    "result = rotate_tuple_right(my_tuple, n_positions)\n",
    "print(result)"
   ]
  },
  {
   "cell_type": "code",
   "execution_count": 48,
   "id": "6ee9b61b-f2ad-43e8-a6c4-468e915896d0",
   "metadata": {},
   "outputs": [],
   "source": [
    "### 41. Create a tuple of the first 5 Fibonacci numbers."
   ]
  },
  {
   "cell_type": "code",
   "execution_count": 49,
   "id": "aceca81c-d962-44db-a656-3afdd81fbc34",
   "metadata": {},
   "outputs": [
    {
     "name": "stdout",
     "output_type": "stream",
     "text": [
      "(0, 1, 1, 2, 3)\n"
     ]
    }
   ],
   "source": [
    "# Define a function to generate the first n Fibonacci numbers\n",
    "def generate_fibonacci(n):\n",
    "    fibonacci = [0, 1]  # Initialize the list with the first two Fibonacci numbers\n",
    "    while len(fibonacci) < n:  # Continue generating Fibonacci numbers until the list has n elements\n",
    "        next_number = fibonacci[-1] + fibonacci[-2]  # Calculate the next Fibonacci number\n",
    "        fibonacci.append(next_number)  # Add the next Fibonacci number to the list\n",
    "    return tuple(fibonacci)  # Convert the list to a tuple and return it\n",
    "\n",
    "# Call the generate_fibonacci function to create a tuple of the first 5 Fibonacci numbers\n",
    "fibonacci_tuple = generate_fibonacci(5)\n",
    "\n",
    "# Print the resulting tuple\n",
    "print(fibonacci_tuple)"
   ]
  },
  {
   "cell_type": "code",
   "execution_count": null,
   "id": "c49c2a3b-1ef3-4205-b649-bf14ec569d2d",
   "metadata": {},
   "outputs": [],
   "source": [
    "### 42. Create a tuple from user input."
   ]
  },
  {
   "cell_type": "code",
   "execution_count": 56,
   "id": "4ec6f330-1b88-4b78-83fa-9904f80b54cf",
   "metadata": {},
   "outputs": [
    {
     "name": "stdin",
     "output_type": "stream",
     "text": [
      "enter the value or number ajir\n"
     ]
    },
    {
     "data": {
      "text/plain": [
       "('ajir',)"
      ]
     },
     "execution_count": 56,
     "metadata": {},
     "output_type": "execute_result"
    }
   ],
   "source": [
    "t = (input(\"enter the value or number\"))\n",
    "i = t.split(',')\n",
    "u = tuple(i)\n",
    "u"
   ]
  },
  {
   "cell_type": "code",
   "execution_count": 57,
   "id": "50c12a3d-7562-4b36-b14a-86219ef6123a",
   "metadata": {},
   "outputs": [],
   "source": [
    "### 43. Swap two elements in a tuple."
   ]
  },
  {
   "cell_type": "code",
   "execution_count": 58,
   "id": "3bc4a9c6-203d-4921-9adf-96ba5ac22de0",
   "metadata": {},
   "outputs": [
    {
     "data": {
      "text/plain": [
       "(1, 5, 6, 7)"
      ]
     },
     "execution_count": 58,
     "metadata": {},
     "output_type": "execute_result"
    }
   ],
   "source": [
    "t1 = (1,5,6,7)\n",
    "t2 = (1,4,8,7)\n",
    "a = t1\n",
    "t1 = t2\n",
    "t2 = a\n",
    "t2\n"
   ]
  },
  {
   "cell_type": "code",
   "execution_count": null,
   "id": "f36c8c9e-d47e-4dd1-9c9a-cc7d1caefe2c",
   "metadata": {},
   "outputs": [],
   "source": [
    "### 44. Reverse the elements of a tuple."
   ]
  },
  {
   "cell_type": "code",
   "execution_count": 59,
   "id": "3331588f-aba5-4f09-94e6-c3af9caee7e9",
   "metadata": {},
   "outputs": [
    {
     "name": "stdout",
     "output_type": "stream",
     "text": [
      "(7, 6, 5, 1)\n"
     ]
    }
   ],
   "source": [
    "t1 = (1,5,6,7)\n",
    "print(t1[::-1])"
   ]
  },
  {
   "cell_type": "code",
   "execution_count": 60,
   "id": "ba8314b9-d369-4e79-81d2-a3ca9584d7f9",
   "metadata": {},
   "outputs": [],
   "source": [
    "### 45. Create a tuple of the first `n` powers of 2.\n"
   ]
  },
  {
   "cell_type": "code",
   "execution_count": 61,
   "id": "84435409-2ccf-4899-b73d-a6ea65bd3006",
   "metadata": {},
   "outputs": [
    {
     "data": {
      "text/plain": [
       "(1, 2, 4, 8, 16)"
      ]
     },
     "execution_count": 61,
     "metadata": {},
     "output_type": "execute_result"
    }
   ],
   "source": [
    "n = 5\n",
    "p = tuple(2** i for i in range(n))\n",
    "p"
   ]
  },
  {
   "cell_type": "code",
   "execution_count": null,
   "id": "d278ebad-6400-4afa-88e7-9aa23c4afa7f",
   "metadata": {},
   "outputs": [],
   "source": [
    "### 46. Find the longest string in a tuple of strings."
   ]
  },
  {
   "cell_type": "code",
   "execution_count": 62,
   "id": "983e474b-21f3-4a97-a13a-abf688120b4a",
   "metadata": {},
   "outputs": [
    {
     "name": "stdout",
     "output_type": "stream",
     "text": [
      "Longest string: watermelon\n"
     ]
    }
   ],
   "source": [
    "# Create a tuple of strings\n",
    "string_tuple = (\"apple\", \"banana\", \"grape\", \"kiwi\", \"watermelon\")\n",
    "\n",
    "# Find the longest string in the tuple\n",
    "longest_string = max(string_tuple, key=len)\n",
    "\n",
    "# Print the longest string\n",
    "print(\"Longest string:\", longest_string)"
   ]
  },
  {
   "cell_type": "code",
   "execution_count": 63,
   "id": "663f0e45-77f2-410d-8586-92eb8f9338d7",
   "metadata": {},
   "outputs": [],
   "source": [
    "### 47. Find the shortest string in a tuple of strings."
   ]
  },
  {
   "cell_type": "code",
   "execution_count": 64,
   "id": "e2c3facb-dcc2-49e2-8fb4-89cd3a9f066a",
   "metadata": {},
   "outputs": [
    {
     "name": "stdout",
     "output_type": "stream",
     "text": [
      "Shortest string: kiwi\n"
     ]
    }
   ],
   "source": [
    "# Create a tuple of strings\n",
    "string_tuple = (\"apple\", \"banana\", \"grape\", \"kiwi\", \"watermelon\")\n",
    "\n",
    "# Find the shortest string in the tuple\n",
    "shortest_string = min(string_tuple, key=len)\n",
    "\n",
    "# Print the shortest string\n",
    "print(\"Shortest string:\", shortest_string)"
   ]
  },
  {
   "cell_type": "code",
   "execution_count": 65,
   "id": "38fbc56d-7a57-4066-a218-b55662edf7af",
   "metadata": {},
   "outputs": [],
   "source": [
    "### 48. Create a tuple of the first `n` triangular numbers."
   ]
  },
  {
   "cell_type": "code",
   "execution_count": 66,
   "id": "04e90e01-a548-4a3a-812e-8f1ff0b8fbb1",
   "metadata": {},
   "outputs": [
    {
     "name": "stdout",
     "output_type": "stream",
     "text": [
      "Tuple of the first 5 triangular numbers: (1, 3, 6, 10, 15)\n"
     ]
    }
   ],
   "source": [
    "# Define the value of n\n",
    "n = 5\n",
    "\n",
    "# Create a tuple of the first n triangular numbers using a list comprehension\n",
    "triangular_numbers_tuple = tuple((i * (i + 1)) // 2 for i in range(1, n + 1))\n",
    "\n",
    "# Print the tuple of triangular numbers\n",
    "print(\"Tuple of the first\", n, \"triangular numbers:\", triangular_numbers_tuple)"
   ]
  },
  {
   "cell_type": "code",
   "execution_count": 67,
   "id": "c5a13220-a80f-4b4d-89ee-381fc3551ee4",
   "metadata": {},
   "outputs": [],
   "source": [
    "### 49. Check if a tuple contains another tuple as a subsequence."
   ]
  },
  {
   "cell_type": "code",
   "execution_count": 68,
   "id": "7d3baa1f-9d92-4440-aca3-6dc13979f47b",
   "metadata": {},
   "outputs": [
    {
     "name": "stdout",
     "output_type": "stream",
     "text": [
      "Main tuple contains subsequence tuple: True\n"
     ]
    }
   ],
   "source": [
    "# Function to check if a tuple contains another tuple as a subsequence\n",
    "def contains_subsequence(main_tuple, sub_tuple):\n",
    "    sub_length = len(sub_tuple)\n",
    "    for i in range(len(main_tuple) - sub_length + 1):\n",
    "        if main_tuple[i:i+sub_length] == sub_tuple:\n",
    "            return True\n",
    "    return False\n",
    "\n",
    "# Main tuple\n",
    "main_tuple = (1, 2, 3, 4, 5, 6, 7, 8, 9)\n",
    "\n",
    "# Subsequence tuple\n",
    "sub_tuple = (3, 4, 5)\n",
    "\n",
    "# Check if the main tuple contains the subsequence tuple\n",
    "contains_subseq = contains_subsequence(main_tuple, sub_tuple)\n",
    "\n",
    "# Print the result\n",
    "print(\"Main tuple contains subsequence tuple:\", contains_subseq)"
   ]
  },
  {
   "cell_type": "code",
   "execution_count": 69,
   "id": "2a5e5e14-c556-42d0-8ccb-0a502f497db4",
   "metadata": {},
   "outputs": [],
   "source": [
    "### 50. Create a tuple of alternating 1s and 0s of length `n`."
   ]
  },
  {
   "cell_type": "code",
   "execution_count": 70,
   "id": "dbef17ed-2c5d-4ab9-bb8e-be86111b9820",
   "metadata": {},
   "outputs": [
    {
     "data": {
      "text/plain": [
       "(0, 1, 0, 1, 0, 1, 0, 1, 0, 1)"
      ]
     },
     "execution_count": 70,
     "metadata": {},
     "output_type": "execute_result"
    }
   ],
   "source": [
    "n = 10\n",
    "at = tuple(i%2for i in range(n))\n",
    "at"
   ]
  },
  {
   "cell_type": "code",
   "execution_count": 71,
   "id": "8a07e2f1-37b3-42c5-9e99-43183ba8db93",
   "metadata": {},
   "outputs": [],
   "source": [
    "############ SET BASED QUESTIONS############"
   ]
  },
  {
   "cell_type": "code",
   "execution_count": 72,
   "id": "432cba5a-6dbf-4a33-b6cf-4b22bb0982d4",
   "metadata": {},
   "outputs": [],
   "source": [
    "### 1. Create a set with integers from 1 to 5\n"
   ]
  },
  {
   "cell_type": "code",
   "execution_count": 74,
   "id": "1e789438-bbf4-4232-8a05-fbdf01cb8bb8",
   "metadata": {},
   "outputs": [
    {
     "data": {
      "text/plain": [
       "{1, 2, 3, 4, 5}"
      ]
     },
     "execution_count": 74,
     "metadata": {},
     "output_type": "execute_result"
    }
   ],
   "source": [
    "my_set = set()\n",
    "my_set.add(1)\n",
    "my_set.add(2)\n",
    "my_set.add(3)\n",
    "my_set.add(4)\n",
    "my_set.add(5)\n",
    "my_set"
   ]
  },
  {
   "cell_type": "code",
   "execution_count": null,
   "id": "fba41c5b-d01e-4ff6-88c9-62f783a0d31d",
   "metadata": {},
   "outputs": [],
   "source": [
    "### 2. Add an element to a set"
   ]
  },
  {
   "cell_type": "code",
   "execution_count": 78,
   "id": "27fa429e-aa9f-48db-8e76-3bb544eb1c32",
   "metadata": {},
   "outputs": [
    {
     "name": "stdout",
     "output_type": "stream",
     "text": [
      "original set: {1, 2, 3}\n"
     ]
    },
    {
     "data": {
      "text/plain": [
       "{1, 2, 3, 6}"
      ]
     },
     "execution_count": 78,
     "metadata": {},
     "output_type": "execute_result"
    }
   ],
   "source": [
    "my_set = {1,2,3}\n",
    "print(\"original set:\",my_set)\n",
    "add = 6\n",
    "my_set.add(add)\n",
    "my_set"
   ]
  },
  {
   "cell_type": "code",
   "execution_count": null,
   "id": "10c4af24-7ed5-4df5-9f78-43aca0c3e2c6",
   "metadata": {},
   "outputs": [],
   "source": [
    "### 3. Remove an element from a set.\n"
   ]
  },
  {
   "cell_type": "code",
   "execution_count": 80,
   "id": "c7562447-a58d-4dab-befd-f9f6ba229099",
   "metadata": {},
   "outputs": [
    {
     "name": "stdout",
     "output_type": "stream",
     "text": [
      "{1, 2, 3}\n"
     ]
    },
    {
     "data": {
      "text/plain": [
       "{1, 2}"
      ]
     },
     "execution_count": 80,
     "metadata": {},
     "output_type": "execute_result"
    }
   ],
   "source": [
    "a =  {1,2,3}\n",
    "print(a)\n",
    "b = 3\n",
    "a.remove(b)\n",
    "a"
   ]
  },
  {
   "cell_type": "code",
   "execution_count": 3,
   "id": "39111848-0efc-4f19-85b1-09efdc956591",
   "metadata": {},
   "outputs": [],
   "source": [
    "### 4. Check if an element exists in a set.\n"
   ]
  },
  {
   "cell_type": "code",
   "execution_count": 4,
   "id": "8ad1c295-ba4a-4e04-9c06-41675e5111dd",
   "metadata": {},
   "outputs": [
    {
     "name": "stdin",
     "output_type": "stream",
     "text": [
      "enter the element: 5\n"
     ]
    },
    {
     "name": "stdout",
     "output_type": "stream",
     "text": [
      "5exist in the set\n"
     ]
    }
   ],
   "source": [
    "my_set = {1,2,3,4,5}\n",
    "ele_check = int(input(\"enter the element:\"))\n",
    "if ele_check in my_set:\n",
    "    print(f\"{ele_check}exist in the set\")\n",
    "else:\n",
    "    print(f\"{ele_check}does not exist in the set\")\n",
    "    "
   ]
  },
  {
   "cell_type": "code",
   "execution_count": null,
   "id": "f05ed4b4-f7eb-4d6f-a3ac-3d4824070fc9",
   "metadata": {},
   "outputs": [],
   "source": [
    "### 5. Find the length of a set without using the `len()` function"
   ]
  },
  {
   "cell_type": "code",
   "execution_count": 9,
   "id": "4dba5b88-2a06-46cb-af20-857121127aef",
   "metadata": {},
   "outputs": [
    {
     "name": "stdout",
     "output_type": "stream",
     "text": [
      "6\n"
     ]
    }
   ],
   "source": [
    "my_set= {1,2,3,4,5,6}\n",
    "count = 0\n",
    "for i in my_set :\n",
    "    count+=1\n",
    "print(count)"
   ]
  },
  {
   "cell_type": "code",
   "execution_count": null,
   "id": "8392a8aa-f327-4e8f-a245-23172838ebec",
   "metadata": {},
   "outputs": [],
   "source": [
    "### 6. Clear all elements from a set."
   ]
  },
  {
   "cell_type": "code",
   "execution_count": 10,
   "id": "0531279d-9cbe-4112-8c1c-440f68d153cd",
   "metadata": {},
   "outputs": [
    {
     "name": "stdout",
     "output_type": "stream",
     "text": [
      "{1, 2, 3, 4, 5, 6}\n",
      "set()\n"
     ]
    }
   ],
   "source": [
    "my_set = {1,2,3,4,5,6}\n",
    "print(my_set)\n",
    "my_set.clear()\n",
    "print(my_set)"
   ]
  },
  {
   "cell_type": "code",
   "execution_count": 11,
   "id": "cebd6387-494b-45e8-bd0d-9b0c4fdf1b67",
   "metadata": {},
   "outputs": [],
   "source": [
    "### 7. Create a set of even numbers from 1 to 10"
   ]
  },
  {
   "cell_type": "code",
   "execution_count": 13,
   "id": "bb899e6d-db36-4389-b4dc-0d88a9a6c305",
   "metadata": {},
   "outputs": [
    {
     "name": "stdout",
     "output_type": "stream",
     "text": [
      "{2, 4, 6, 8, 10}\n"
     ]
    }
   ],
   "source": [
    "my_set = set()\n",
    "for num in range(1,11):\n",
    "    \n",
    "    if num%2==0:\n",
    "        \n",
    "        \n",
    "        my_set.add(num)\n",
    "print(my_set)"
   ]
  },
  {
   "cell_type": "code",
   "execution_count": null,
   "id": "70605c09-8e21-4cda-becb-a5553e1651bf",
   "metadata": {},
   "outputs": [],
   "source": [
    "### 8. Create a set of odd numbers from 1 to 10"
   ]
  },
  {
   "cell_type": "code",
   "execution_count": 15,
   "id": "efde4c97-da7b-427c-a171-a8bca66833e0",
   "metadata": {},
   "outputs": [
    {
     "name": "stdout",
     "output_type": "stream",
     "text": [
      "{1, 3, 5, 7, 9}\n"
     ]
    }
   ],
   "source": [
    "my_set = set()\n",
    "for num in range(1,11):\n",
    "    \n",
    "    if num%2!=0:\n",
    "        \n",
    "        \n",
    "        my_set.add(num)\n",
    "print(my_set)"
   ]
  },
  {
   "cell_type": "code",
   "execution_count": null,
   "id": "37cc3a68-a3bf-4a46-b62c-58afc4eb6428",
   "metadata": {},
   "outputs": [],
   "source": [
    "### 9. Find the union of two sets"
   ]
  },
  {
   "cell_type": "code",
   "execution_count": 17,
   "id": "25d1e859-47c3-4bd4-b72a-a757dbf3e546",
   "metadata": {},
   "outputs": [
    {
     "name": "stdout",
     "output_type": "stream",
     "text": [
      "Set 1: {1, 2, 3, 4, 5}\n",
      "Set 2: {4, 5, 6, 7, 8}\n",
      "Union of Set 1 and Set 2: {1, 2, 3, 4, 5, 6, 7, 8}\n"
     ]
    }
   ],
   "source": [
    "set1 = {1, 2, 3, 4, 5}\n",
    "set2 = {4, 5, 6, 7, 8}\n",
    "union_result = set1.union(set2)\n",
    "\n",
    "# Print the original sets and their union\n",
    "print(\"Set 1:\", set1)\n",
    "print(\"Set 2:\", set2)\n",
    "print(\"Union of Set 1 and Set 2:\", union_result)"
   ]
  },
  {
   "cell_type": "code",
   "execution_count": null,
   "id": "cf6639e4-bd1b-4cd2-a999-79efe06edbbe",
   "metadata": {},
   "outputs": [],
   "source": [
    "### 10. Find the intersection of two sets"
   ]
  },
  {
   "cell_type": "code",
   "execution_count": 18,
   "id": "8677503b-8edd-4e6d-a642-62f7b20a76d6",
   "metadata": {},
   "outputs": [
    {
     "name": "stdout",
     "output_type": "stream",
     "text": [
      "{1, 2, 3, 4, 5}\n",
      "{4, 5, 6, 7, 8}\n",
      "{4, 5}\n"
     ]
    }
   ],
   "source": [
    "set1 = {1, 2, 3, 4, 5}\n",
    "set2 = {4, 5, 6, 7, 8}\n",
    "inter = set1.intersection(set2)\n",
    "print(set1)\n",
    "print(set2)\n",
    "print(inter)"
   ]
  },
  {
   "cell_type": "code",
   "execution_count": null,
   "id": "a45b46c1-bddb-4d17-9621-1bafa9117678",
   "metadata": {},
   "outputs": [],
   "source": [
    "### 11. Find the difference between two sets."
   ]
  },
  {
   "cell_type": "code",
   "execution_count": 19,
   "id": "c717a666-cff6-4779-b2dc-c754246dfa89",
   "metadata": {},
   "outputs": [
    {
     "name": "stdout",
     "output_type": "stream",
     "text": [
      "{1, 2, 3, 4, 5}\n",
      "{4, 5, 6, 7, 8}\n",
      "{1, 2, 3}\n"
     ]
    }
   ],
   "source": [
    "set1 = {1, 2, 3, 4, 5}\n",
    "set2 = {4, 5, 6, 7, 8}\n",
    "diff = set1.difference(set2)\n",
    "print(set1)\n",
    "print(set2)\n",
    "print(diff)"
   ]
  },
  {
   "cell_type": "code",
   "execution_count": null,
   "id": "8fd33fca-c802-4c28-a5ac-e2f92e36ca7b",
   "metadata": {},
   "outputs": [],
   "source": [
    "### 12. Check if a set is a subset of another set."
   ]
  },
  {
   "cell_type": "code",
   "execution_count": 20,
   "id": "0d793ecb-a0ac-475e-94fc-329ed79e9042",
   "metadata": {},
   "outputs": [
    {
     "name": "stdout",
     "output_type": "stream",
     "text": [
      "True\n"
     ]
    }
   ],
   "source": [
    "set1 = {1, 2, 3}\n",
    "set2 = {1, 2, 3, 4, 5}\n",
    "subset = set1.issubset(set2)\n",
    "print(subset)"
   ]
  },
  {
   "cell_type": "code",
   "execution_count": 21,
   "id": "92fc20a6-6dd1-4725-b281-90142adb5e17",
   "metadata": {},
   "outputs": [],
   "source": [
    "### 13. Check if a set is a superset of another set.\n"
   ]
  },
  {
   "cell_type": "code",
   "execution_count": 24,
   "id": "ab008753-7567-491c-9d30-f94ca3306163",
   "metadata": {},
   "outputs": [
    {
     "name": "stdout",
     "output_type": "stream",
     "text": [
      "set1 is the superset of set2\n"
     ]
    }
   ],
   "source": [
    "set1 = {1, 2, 3, 4, 5, 6}\n",
    "set2 = {3, 4}\n",
    "superset = set1.issuperset(set2)\n",
    "if superset:\n",
    "    print(\"set1 is the superset of set2\")\n",
    "else:\n",
    "    print(\"set1 is not superset of set2\")\n",
    "    "
   ]
  },
  {
   "cell_type": "code",
   "execution_count": 25,
   "id": "e48dd94f-3147-400d-9d66-67865148190f",
   "metadata": {},
   "outputs": [],
   "source": [
    "### 14. Create a set from a list"
   ]
  },
  {
   "cell_type": "code",
   "execution_count": 29,
   "id": "9e10a52e-9095-4c59-888d-de229fc79585",
   "metadata": {},
   "outputs": [
    {
     "name": "stdout",
     "output_type": "stream",
     "text": [
      "[2, 4, 1, 6, 9, 5]\n",
      "{1, 2, 4, 5, 6, 9}\n"
     ]
    }
   ],
   "source": [
    "l = [2,4,1,6,9,5]\n",
    "my_set = set(l)\n",
    "print(l)\n",
    "print(my_set)"
   ]
  },
  {
   "cell_type": "code",
   "execution_count": 30,
   "id": "25587219-bb56-4e64-bd7e-f610d3df8c56",
   "metadata": {},
   "outputs": [],
   "source": [
    "### 15. Convert a set to a list.\n"
   ]
  },
  {
   "cell_type": "code",
   "execution_count": 33,
   "id": "c4ce110f-6091-4415-8ea2-0d404727ae16",
   "metadata": {},
   "outputs": [
    {
     "name": "stdout",
     "output_type": "stream",
     "text": [
      "{1, 2, 3, 4, 5, 6}\n"
     ]
    },
    {
     "data": {
      "text/plain": [
       "[1, 2, 3, 4, 5, 6]"
      ]
     },
     "execution_count": 33,
     "metadata": {},
     "output_type": "execute_result"
    }
   ],
   "source": [
    "s = {1,2,3,4,5,6}\n",
    "print(s)\n",
    "list(s)"
   ]
  },
  {
   "cell_type": "code",
   "execution_count": 34,
   "id": "e518601f-2989-452c-bd6f-2cae9b46be39",
   "metadata": {},
   "outputs": [],
   "source": [
    "### 16. Remove a random element from a set."
   ]
  },
  {
   "cell_type": "code",
   "execution_count": 38,
   "id": "22f76f19-7da8-487b-ac90-b57eb7686760",
   "metadata": {},
   "outputs": [
    {
     "name": "stdout",
     "output_type": "stream",
     "text": [
      "Original set: {1, 2, 3, 4, 5}\n",
      "Updated set after removing 5 : {1, 2, 3, 4}\n"
     ]
    }
   ],
   "source": [
    "import random\n",
    "my_set = {1, 2, 3, 4, 5}\n",
    "print(\"Original set:\", my_set)\n",
    "random = random.choice(list(my_set))\n",
    "my_set.remove(random)\n",
    "print(\"Updated set after removing\", random, \":\", my_set)\n"
   ]
  },
  {
   "cell_type": "code",
   "execution_count": 39,
   "id": "4cd09b7f-df04-4cbd-80d7-5e9675305c21",
   "metadata": {},
   "outputs": [],
   "source": [
    "### 17. Pop an element from a set."
   ]
  },
  {
   "cell_type": "code",
   "execution_count": 40,
   "id": "42f66be1-52d6-4bfa-9dbb-3106703580a0",
   "metadata": {},
   "outputs": [
    {
     "name": "stdout",
     "output_type": "stream",
     "text": [
      "Original set: {1, 2, 3, 4, 5}\n",
      "Popped element: 1\n",
      "Set after popping: {2, 3, 4, 5}\n"
     ]
    }
   ],
   "source": [
    "my_set = {1, 2, 3, 4, 5}\n",
    "\n",
    "# Print the original set\n",
    "print(\"Original set:\", my_set)\n",
    "\n",
    "# Pop an element from the set using the pop() method\n",
    "popped_element = my_set.pop()\n",
    "\n",
    "# Print the element that was popped\n",
    "print(\"Popped element:\", popped_element)\n",
    "\n",
    "# Print the set after popping an element\n",
    "print(\"Set after popping:\", my_set)"
   ]
  },
  {
   "cell_type": "code",
   "execution_count": 41,
   "id": "c57ac6dd-fadf-4043-a708-b6888d91fa5b",
   "metadata": {},
   "outputs": [],
   "source": [
    "### 18. Check if two sets have no elements in common."
   ]
  },
  {
   "cell_type": "code",
   "execution_count": 42,
   "id": "dbcf2e20-c73a-4214-b599-d92cd592642f",
   "metadata": {},
   "outputs": [
    {
     "name": "stdout",
     "output_type": "stream",
     "text": [
      "The two sets have no elements in common.\n"
     ]
    }
   ],
   "source": [
    "set1 = {1, 2, 3, 4}\n",
    "set2 = {5, 6, 7, 8}\n",
    "\n",
    "# Step 2: Check if the intersection of the two sets is empty\n",
    "# The intersection is the set of elements that are common to both sets\n",
    "common_elements = set1.intersection(set2)\n",
    "\n",
    "# Step 3: Check if the common_elements set is empty\n",
    "if not common_elements:\n",
    "    print(\"The two sets have no elements in common.\")\n",
    "else:\n",
    "    print(\"The two sets have common elements:\", common_elements)"
   ]
  },
  {
   "cell_type": "code",
   "execution_count": null,
   "id": "3cfc50cc-557b-4305-9c74-19ceffbe49f1",
   "metadata": {},
   "outputs": [],
   "source": [
    "### 19. Find the symmetric difference between two sets."
   ]
  },
  {
   "cell_type": "code",
   "execution_count": 43,
   "id": "f2c8d683-41a4-4b78-a84f-859950947180",
   "metadata": {},
   "outputs": [
    {
     "name": "stdout",
     "output_type": "stream",
     "text": [
      "{1, 2, 3, 6, 7, 8}\n"
     ]
    }
   ],
   "source": [
    "set1 = {1, 2, 3, 4, 5}\n",
    "set2 = {4, 5, 6, 7, 8}\n",
    "symm_diff = set1^set2\n",
    "print(symm_diff)"
   ]
  },
  {
   "cell_type": "code",
   "execution_count": null,
   "id": "1df97d32-867d-43d0-bc99-71e3ffa4262d",
   "metadata": {},
   "outputs": [],
   "source": [
    "### 20. Update a set with elements from another set."
   ]
  },
  {
   "cell_type": "code",
   "execution_count": 48,
   "id": "19d88d2a-86a8-4a03-865e-c2d5b3ac7a11",
   "metadata": {},
   "outputs": [
    {
     "name": "stdout",
     "output_type": "stream",
     "text": [
      "{1, 2, 3, 4, 5, 6}\n",
      "{6, 7, 8, 9, 10, 11}\n",
      "{1, 2, 3, 4, 5, 6, 7, 8, 9, 10, 11}\n"
     ]
    }
   ],
   "source": [
    "set1 = {1,2,3,4,5,6,}\n",
    "set2 ={6,7,8,9,10,11}\n",
    "print(set1)\n",
    "print(set2)\n",
    "set1.update(set2)\n",
    "print(set1)\n",
    "    \n",
    "\n",
    "\n"
   ]
  },
  {
   "cell_type": "code",
   "execution_count": null,
   "id": "9821c264-9771-49ee-862f-f40e4c39e243",
   "metadata": {},
   "outputs": [],
   "source": [
    "### 21. Create a set of the first 5 prime numbers."
   ]
  },
  {
   "cell_type": "code",
   "execution_count": 53,
   "id": "76aa7d66-572f-49ba-a956-1a05614d550c",
   "metadata": {},
   "outputs": [
    {
     "data": {
      "text/plain": [
       "{11, 13, 17, 19, 23}"
      ]
     },
     "execution_count": 53,
     "metadata": {},
     "output_type": "execute_result"
    }
   ],
   "source": [
    "def is_prime(num):\n",
    "    if num <= 1:\n",
    "        return False\n",
    "    for i in range(2, int(num ** 0.5) + 1):\n",
    "        if num % i == 0:\n",
    "            return False\n",
    "    return True\n",
    "prime = set()\n",
    "while len(prime)<5:\n",
    "    if is_prime(num):\n",
    "        prime.add(num)\n",
    "    num+=1\n",
    "prime"
   ]
  },
  {
   "cell_type": "code",
   "execution_count": 54,
   "id": "28b01f74-8616-4ab3-b39d-831aa39f523c",
   "metadata": {},
   "outputs": [],
   "source": [
    "### 22. Check if two sets are identical."
   ]
  },
  {
   "cell_type": "code",
   "execution_count": 55,
   "id": "0034d1ad-c538-4686-94c2-9a0ab9a6d3d4",
   "metadata": {},
   "outputs": [
    {
     "name": "stdout",
     "output_type": "stream",
     "text": [
      "The sets are identical.\n"
     ]
    }
   ],
   "source": [
    "set1 = {1, 2, 3, 4, 5}\n",
    "set2 = {3, 1, 5, 2, 4}  # The order of elements doesn't matter in sets\n",
    "\n",
    "# Step 2: Check if the sets are identical using the `==` operator\n",
    "# Sets are unordered collections, so the order of elements doesn't matter.\n",
    "# The `==` operator compares the content of the sets.\n",
    "if set1 == set2:\n",
    "    print(\"The sets are identical.\")\n",
    "else:\n",
    "    print(\"The sets are not identical.\")"
   ]
  },
  {
   "cell_type": "code",
   "execution_count": 56,
   "id": "6e727cac-9e64-4538-88fe-c10be1d04a01",
   "metadata": {},
   "outputs": [],
   "source": [
    "### 23. Create a frozen set"
   ]
  },
  {
   "cell_type": "code",
   "execution_count": 57,
   "id": "e5513f6e-e414-4a7c-a817-d60ee9aedeb1",
   "metadata": {},
   "outputs": [
    {
     "name": "stdout",
     "output_type": "stream",
     "text": [
      "Frozen Set: frozenset({1, 2, 3, 4, 5})\n"
     ]
    }
   ],
   "source": [
    "# Step 2: Define a list of elements that you want to include in the frozen set\n",
    "elements = [1, 2, 3, 4, 5]\n",
    "\n",
    "# Step 3: Create a frozen set using the 'frozenset' constructor and passing the list of elements\n",
    "my_frozen_set = frozenset(elements)\n",
    "\n",
    "# Step 4: Print the frozen set\n",
    "print(\"Frozen Set:\", my_frozen_set)"
   ]
  },
  {
   "cell_type": "code",
   "execution_count": 59,
   "id": "adc3177c-1d0c-4ce6-89e8-728941ec9ba2",
   "metadata": {},
   "outputs": [
    {
     "name": "stdout",
     "output_type": "stream",
     "text": [
      "Are the sets disjoint? True\n"
     ]
    }
   ],
   "source": [
    "set1 = {1, 2, 3, 4}\n",
    "set2 = {5, 6, 7, 8}\n",
    "disjoint_status = set1.isdisjoint(set2)\n",
    "\n",
    "# Step 3: Print the result\n",
    "print(\"Are the sets disjoint?\", disjoint_status)"
   ]
  },
  {
   "cell_type": "code",
   "execution_count": null,
   "id": "785ef67b-bab1-4c68-b804-feead27dc56b",
   "metadata": {},
   "outputs": [],
   "source": [
    "### 25. Create a set of squares of numbers from 1 to 5."
   ]
  },
  {
   "cell_type": "code",
   "execution_count": 60,
   "id": "40092652-d3e0-4a60-a532-2645cb289802",
   "metadata": {},
   "outputs": [
    {
     "name": "stdout",
     "output_type": "stream",
     "text": [
      "{1, 4, 9, 16, 25}\n"
     ]
    }
   ],
   "source": [
    "# Step 1: Create an empty set to store the squares of numbers\n",
    "squares_set = set()\n",
    "\n",
    "# Step 2: Use a loop to iterate through numbers from 1 to 5\n",
    "for num in range(1, 6):\n",
    "    # Step 3: Calculate the square of the current number\n",
    "    square = num ** 2\n",
    "\n",
    "    # Step 4: Add the square to the set\n",
    "    squares_set.add(square)\n",
    "\n",
    "# Step 5: Print the set of squares\n",
    "print(squares_set)"
   ]
  },
  {
   "cell_type": "code",
   "execution_count": null,
   "id": "b1b47970-fc05-4be6-840a-826328acd254",
   "metadata": {},
   "outputs": [],
   "source": [
    "### 26. Filter out all even numbers from a set."
   ]
  },
  {
   "cell_type": "code",
   "execution_count": 61,
   "id": "33d54d49-6f00-4ed2-a1fb-b5284a513296",
   "metadata": {},
   "outputs": [
    {
     "name": "stdout",
     "output_type": "stream",
     "text": [
      "Original Set: {1, 2, 3, 4, 5}\n",
      "Even Numbers Set: {2, 4}\n"
     ]
    }
   ],
   "source": [
    "# Step 1: Create a set with integers from 1 to 5\n",
    "original_set = {1, 2, 3, 4, 5}\n",
    "\n",
    "# Step 2: Initialize an empty set to store the filtered even numbers\n",
    "even_numbers_set = set()\n",
    "\n",
    "# Step 3: Iterate through each element in the original set\n",
    "for num in original_set:\n",
    "    # Step 4: Check if the current number is even (divisible by 2)\n",
    "    if num % 2 == 0:\n",
    "        # Step 5: If even, add it to the even_numbers_set\n",
    "        even_numbers_set.add(num)\n",
    "\n",
    "# Step 6: Print the original set and the set containing even numbers\n",
    "print(\"Original Set:\", original_set)\n",
    "print(\"Even Numbers Set:\", even_numbers_set)"
   ]
  },
  {
   "cell_type": "code",
   "execution_count": null,
   "id": "b92d1e2b-c02b-4ee9-90a6-65ab41e80491",
   "metadata": {},
   "outputs": [],
   "source": [
    "### 27. Multiply all elements in a set by 2."
   ]
  },
  {
   "cell_type": "code",
   "execution_count": 62,
   "id": "7e517ef6-34d1-4347-bbb3-9ffc03a185e6",
   "metadata": {},
   "outputs": [
    {
     "name": "stdout",
     "output_type": "stream",
     "text": [
      "{1, 2, 3, 4, 5}\n",
      "{2, 4, 6, 8, 10}\n"
     ]
    }
   ],
   "source": [
    "original_set = {1, 2, 3, 4, 5}\n",
    "multiplied_set = set()\n",
    "for num in original_set:\n",
    "    \n",
    "    # Multiply the current element by 2\n",
    "    multiplied_num = num * 2\n",
    "    \n",
    "    multiplied_set.add(multiplied_num)\n",
    "print(original_set)\n",
    "print(multiplied_set)\n",
    "    \n",
    "\n",
    "\n"
   ]
  },
  {
   "cell_type": "code",
   "execution_count": 63,
   "id": "a78a11ac-6681-4243-b6ee-73fe19caf40c",
   "metadata": {},
   "outputs": [],
   "source": [
    "## 28. create a set of random numbers\n",
    "\n"
   ]
  },
  {
   "cell_type": "code",
   "execution_count": 68,
   "id": "c7cdea20-a5fd-4e0e-9448-7975b5c522f0",
   "metadata": {},
   "outputs": [
    {
     "name": "stdout",
     "output_type": "stream",
     "text": [
      "{72, 58, 14, 31}\n"
     ]
    }
   ],
   "source": [
    "import random\n",
    "r = 5\n",
    "rn = set()\n",
    "for i in range(r):\n",
    "    random_number = random.randint(1,100)\n",
    "    rn.add(random_number)\n",
    "print(rn)"
   ]
  },
  {
   "cell_type": "code",
   "execution_count": 69,
   "id": "3ff7331d-d19a-49e2-bc38-43a54c3e2a62",
   "metadata": {},
   "outputs": [],
   "source": [
    "### 29. Check if a set is empty."
   ]
  },
  {
   "cell_type": "code",
   "execution_count": 70,
   "id": "f75d658c-9661-41f3-84aa-0e350319a672",
   "metadata": {},
   "outputs": [
    {
     "name": "stdout",
     "output_type": "stream",
     "text": [
      "The set is empty.\n"
     ]
    }
   ],
   "source": [
    "# Step 1: Create a set (you can replace this with your own set)\n",
    "my_set = set()\n",
    "\n",
    "# Step 2: Check if the set is empty using the 'if' statement\n",
    "if not my_set:\n",
    "    print(\"The set is empty.\")\n",
    "else:\n",
    "    print(\"The set is not empty.\")"
   ]
  },
  {
   "cell_type": "code",
   "execution_count": 71,
   "id": "93123b5e-247c-4e2e-abf8-20bc0dad080f",
   "metadata": {},
   "outputs": [],
   "source": [
    "### 30. Create a nested set (hint: use frozenset)."
   ]
  },
  {
   "cell_type": "code",
   "execution_count": 72,
   "id": "f22885aa-6831-4190-9102-79b82a16f74f",
   "metadata": {},
   "outputs": [
    {
     "name": "stdout",
     "output_type": "stream",
     "text": [
      "Nested Set: {frozenset({1, 2, 3, 4, 5}), frozenset({6, 7, 8, 9, 10})}\n"
     ]
    }
   ],
   "source": [
    "# Step 1: Create the inner sets\n",
    "set1 = {1, 2, 3, 4, 5}\n",
    "set2 = {6, 7, 8, 9, 10}\n",
    "\n",
    "# Step 2: Create frozensets from the inner sets\n",
    "frozen_set1 = frozenset(set1)\n",
    "frozen_set2 = frozenset(set2)\n",
    "\n",
    "# Step 3: Create the nested set using the frozensets\n",
    "nested_set = {frozen_set1, frozen_set2}\n",
    "\n",
    "# Print the nested set\n",
    "print(\"Nested Set:\", nested_set)"
   ]
  },
  {
   "cell_type": "code",
   "execution_count": 73,
   "id": "df0794ff-a7f2-4d5d-b13a-03aac5876d99",
   "metadata": {},
   "outputs": [],
   "source": [
    "### 31.  Remove an element from a set using the discard method."
   ]
  },
  {
   "cell_type": "code",
   "execution_count": 74,
   "id": "911b07d0-da94-43fe-a89c-29b437d6b3ac",
   "metadata": {},
   "outputs": [
    {
     "name": "stdout",
     "output_type": "stream",
     "text": [
      "Initial set: {1, 2, 3, 4, 5}\n",
      "Set after removing 3 : {1, 2, 4, 5}\n"
     ]
    }
   ],
   "source": [
    "# Create a set with some elements\n",
    "my_set = {1, 2, 3, 4, 5}\n",
    "\n",
    "# Display the initial set\n",
    "print(\"Initial set:\", my_set)\n",
    "\n",
    "# Define the element to be removed\n",
    "element_to_remove = 3\n",
    "\n",
    "# Use the discard() method to remove the element from the set\n",
    "# If the element is not present in the set, discard() won't raise an error\n",
    "my_set.discard(element_to_remove)\n",
    "\n",
    "# Display the set after removing the element\n",
    "print(\"Set after removing\", element_to_remove, \":\", my_set)"
   ]
  },
  {
   "cell_type": "code",
   "execution_count": 75,
   "id": "a4c8f374-bdea-4e79-bb9e-0a242765ec58",
   "metadata": {},
   "outputs": [],
   "source": [
    "### 32. Compare two sets."
   ]
  },
  {
   "cell_type": "code",
   "execution_count": 76,
   "id": "99abc97b-fbde-49f0-a47c-fbe47aafeb55",
   "metadata": {},
   "outputs": [
    {
     "name": "stdout",
     "output_type": "stream",
     "text": [
      "Set 1: {1, 2, 3, 4, 5}\n",
      "Set 2: {4, 5, 6, 7, 8}\n",
      "Is set1 a subset of set2? False\n",
      "Is set2 a subset of set1? False\n",
      "Intersection: {4, 5}\n",
      "Union: {1, 2, 3, 4, 5, 6, 7, 8}\n",
      "Elements in set1 but not in set2: {1, 2, 3}\n",
      "Elements in set2 but not in set1: {8, 6, 7}\n"
     ]
    }
   ],
   "source": [
    "set1 = {1, 2, 3, 4, 5}\n",
    "set2 = {4, 5, 6, 7, 8}\n",
    "is_subset = set1.issubset(set2)\n",
    "is_superset = set1.issuperset(set2)\n",
    "intersection = set1.intersection(set2)\n",
    "union = set1.union(set2)\n",
    "difference1 = set1.difference(set2)\n",
    "difference2 = set2.difference(set1)\n",
    "print(\"Set 1:\", set1)\n",
    "print(\"Set 2:\", set2)\n",
    "print(\"Is set1 a subset of set2?\", is_subset)\n",
    "print(\"Is set2 a subset of set1?\", is_superset)\n",
    "print(\"Intersection:\", intersection)\n",
    "print(\"Union:\", union)\n",
    "print(\"Elements in set1 but not in set2:\", difference1)\n",
    "print(\"Elements in set2 but not in set1:\", difference2)"
   ]
  },
  {
   "cell_type": "code",
   "execution_count": null,
   "id": "5b763c79-2a74-4d79-931c-8f043eb4e105",
   "metadata": {},
   "outputs": [],
   "source": [
    "### 33. Create a set from a string."
   ]
  },
  {
   "cell_type": "code",
   "execution_count": 77,
   "id": "41e474e7-edd6-4dc1-8851-25bdc9f6af6c",
   "metadata": {},
   "outputs": [
    {
     "name": "stdout",
     "output_type": "stream",
     "text": [
      "{'l', 'h', 'e', 'o'}\n"
     ]
    }
   ],
   "source": [
    "# Step 1: Define the input string\n",
    "input_string = \"hello\"\n",
    "\n",
    "# Step 2: Use the set() constructor to create a set from the characters in the string\n",
    "char_set = set(input_string)\n",
    "\n",
    "# Step 3: Print the resulting set\n",
    "print(char_set)"
   ]
  },
  {
   "cell_type": "code",
   "execution_count": 78,
   "id": "59405301-d61e-4401-84ff-fab848e32329",
   "metadata": {},
   "outputs": [],
   "source": [
    "### 34. Convert a set of strings to a set of integers."
   ]
  },
  {
   "cell_type": "code",
   "execution_count": 79,
   "id": "a4e28d66-15f4-4fb3-904a-9a4a0ee55935",
   "metadata": {},
   "outputs": [
    {
     "name": "stdout",
     "output_type": "stream",
     "text": [
      "Original String Set: {'123', '789', '456'}\n",
      "Converted Integer Set: {456, 123, 789}\n"
     ]
    }
   ],
   "source": [
    "# Step 1: Create a set of strings\n",
    "string_set = {\"123\", \"456\", \"789\"}\n",
    "\n",
    "# Step 2: Initialize an empty set to store integers\n",
    "integer_set = set()\n",
    "\n",
    "# Step 3: Iterate through each string in the string set\n",
    "for string in string_set:\n",
    "    # Step 4: Convert the string to an integer using the int() function\n",
    "    integer_value = int(string)\n",
    "\n",
    "    # Step 5: Add the integer to the integer set\n",
    "    integer_set.add(integer_value)\n",
    "\n",
    "# Step 6: Print the original string set and the converted integer set\n",
    "print(\"Original String Set:\", string_set)\n",
    "print(\"Converted Integer Set:\", integer_set)"
   ]
  },
  {
   "cell_type": "code",
   "execution_count": null,
   "id": "b2c427d2-0031-43d9-ac63-e651f6099499",
   "metadata": {},
   "outputs": [],
   "source": [
    "### 36. Create a set from a tuple."
   ]
  },
  {
   "cell_type": "code",
   "execution_count": 80,
   "id": "5968dc1e-381d-4cbb-8690-f912e56545b6",
   "metadata": {},
   "outputs": [
    {
     "name": "stdout",
     "output_type": "stream",
     "text": [
      "{1, 2, 3, 4, 5}\n"
     ]
    }
   ],
   "source": [
    "# Given tuple\n",
    "input_tuple = (1, 2, 3, 2, 4, 5, 1)\n",
    "\n",
    "# Step 1: Convert the tuple to a set\n",
    "output_set = set(input_tuple)\n",
    "# At this point, the set() function is used to convert the elements of the tuple into a set.\n",
    "# Since sets only contain unique elements, duplicate values are automatically removed.\n",
    "\n",
    "# Step 2: Print the resulting set\n",
    "print(output_set)\n",
    "# The set is now printed, and it will only contain the unique elements from the original tuple."
   ]
  },
  {
   "cell_type": "code",
   "execution_count": 81,
   "id": "f7043f05-d99e-46d1-94c8-50f38b6ddb81",
   "metadata": {},
   "outputs": [],
   "source": [
    "### 37. Convert a set to a tuple."
   ]
  },
  {
   "cell_type": "code",
   "execution_count": 82,
   "id": "8e74d682-7580-4a18-b9bd-391675beab2a",
   "metadata": {},
   "outputs": [
    {
     "name": "stdout",
     "output_type": "stream",
     "text": [
      "Original set: {1, 2, 3, 4, 5}\n",
      "Converted tuple: (1, 2, 3, 4, 5)\n"
     ]
    }
   ],
   "source": [
    "# Step 1: Create a set\n",
    "input_set = {1, 2, 3, 4, 5}\n",
    "\n",
    "# Step 2: Convert the set to a tuple\n",
    "output_tuple = tuple(input_set)\n",
    "\n",
    "# Step 3: Print the original set and the converted tuple\n",
    "print(\"Original set:\", input_set)\n",
    "print(\"Converted tuple:\", output_tuple)"
   ]
  },
  {
   "cell_type": "code",
   "execution_count": null,
   "id": "077879c6-bec6-4510-a973-e8792c622163",
   "metadata": {},
   "outputs": [],
   "source": [
    "### 38. Find the maximum value in a set."
   ]
  },
  {
   "cell_type": "code",
   "execution_count": 83,
   "id": "e7fe7064-f667-4c2b-ab40-02d867bb3cd6",
   "metadata": {},
   "outputs": [
    {
     "data": {
      "text/plain": [
       "5"
      ]
     },
     "execution_count": 83,
     "metadata": {},
     "output_type": "execute_result"
    }
   ],
   "source": [
    "s = {1,2,3,4,5}\n",
    "max(s)"
   ]
  },
  {
   "cell_type": "code",
   "execution_count": 84,
   "id": "1a536bd2-5364-4ac1-bdae-24ca493bd09c",
   "metadata": {},
   "outputs": [],
   "source": [
    "### 39. find the minimum value of set"
   ]
  },
  {
   "cell_type": "code",
   "execution_count": 85,
   "id": "491cc695-b61f-4907-9047-062e51b14c89",
   "metadata": {},
   "outputs": [
    {
     "data": {
      "text/plain": [
       "1"
      ]
     },
     "execution_count": 85,
     "metadata": {},
     "output_type": "execute_result"
    }
   ],
   "source": [
    "s = {1,2,3,4,5}\n",
    "min(s)"
   ]
  },
  {
   "cell_type": "code",
   "execution_count": 86,
   "id": "faa3aa46-0bb8-4d17-be12-5b635f8ddff3",
   "metadata": {},
   "outputs": [],
   "source": [
    "### 40. Create a set from user input."
   ]
  },
  {
   "cell_type": "code",
   "execution_count": 87,
   "id": "d27dd34c-5180-45fa-b7b9-e79a99251ff1",
   "metadata": {},
   "outputs": [
    {
     "name": "stdin",
     "output_type": "stream",
     "text": [
      "enter the sentence i am a good boy\n"
     ]
    },
    {
     "data": {
      "text/plain": [
       "{' ', 'a', 'b', 'd', 'g', 'i', 'm', 'o', 'y'}"
      ]
     },
     "execution_count": 87,
     "metadata": {},
     "output_type": "execute_result"
    }
   ],
   "source": [
    "a = input(\"enter the sentence\")\n",
    "set(a)"
   ]
  },
  {
   "cell_type": "code",
   "execution_count": 88,
   "id": "05b58711-f158-44ed-8bdc-9c717eb11fc7",
   "metadata": {},
   "outputs": [],
   "source": [
    "### 41. Check if the intersection of two sets is empty."
   ]
  },
  {
   "cell_type": "code",
   "execution_count": 89,
   "id": "a8872aa7-40c2-4f25-a5ba-c99b826b0135",
   "metadata": {},
   "outputs": [
    {
     "name": "stdout",
     "output_type": "stream",
     "text": [
      "The intersection of the two sets is not empty.\n"
     ]
    }
   ],
   "source": [
    "# Step 1: Define two sets\n",
    "set1 = {1, 2, 3, 4, 5}\n",
    "set2 = {4, 5, 6, 7, 8}\n",
    "\n",
    "# Step 2: Find the intersection of the two sets using the `intersection()` method\n",
    "intersection_result = set1.intersection(set2)\n",
    "\n",
    "# Step 3: Check if the intersection result is empty\n",
    "if not intersection_result:\n",
    "    print(\"The intersection of the two sets is empty.\")\n",
    "else:\n",
    "    print(\"The intersection of the two sets is not empty.\")"
   ]
  },
  {
   "cell_type": "code",
   "execution_count": 90,
   "id": "3de21dde-9cc7-4a1b-b733-a835f21ca881",
   "metadata": {},
   "outputs": [],
   "source": [
    "### 42. Create a set of the first 5 Fibonacci numbers."
   ]
  },
  {
   "cell_type": "code",
   "execution_count": 91,
   "id": "55dd40ef-e82f-4e51-b851-904dad896f3c",
   "metadata": {},
   "outputs": [
    {
     "name": "stdout",
     "output_type": "stream",
     "text": [
      "Set of the first 5 Fibonacci numbers: {0, 1, 2, 3, 5}\n"
     ]
    }
   ],
   "source": [
    "# Create a set to store the first 5 Fibonacci numbers\n",
    "fibonacci_set = set()\n",
    "\n",
    "# Initialize the first two Fibonacci numbers\n",
    "a, b = 0, 1\n",
    "\n",
    "# Loop to generate the first 5 Fibonacci numbers\n",
    "for _ in range(6):\n",
    "    # Add the current Fibonacci number to the set\n",
    "    fibonacci_set.add(a)\n",
    "\n",
    "    # Calculate the next Fibonacci number\n",
    "    a, b = b, a + b\n",
    "\n",
    "# Print the set of Fibonacci numbers\n",
    "print(\"Set of the first 5 Fibonacci numbers:\", fibonacci_set)"
   ]
  },
  {
   "cell_type": "code",
   "execution_count": 92,
   "id": "942a2f0d-2d86-48e5-bb69-3f559587f274",
   "metadata": {},
   "outputs": [],
   "source": [
    "### 43. Remove duplicates from a list using sets."
   ]
  },
  {
   "cell_type": "code",
   "execution_count": 93,
   "id": "f37965b8-8cce-4e93-8316-339c45e91827",
   "metadata": {},
   "outputs": [
    {
     "name": "stdout",
     "output_type": "stream",
     "text": [
      "Original List: [2, 4, 6, 8, 4, 10, 6, 12, 14, 8]\n",
      "List with Duplicates Removed: [2, 4, 6, 8, 10, 12, 14]\n"
     ]
    }
   ],
   "source": [
    "# Step 1: Define a list with duplicates\n",
    "original_list = [2, 4, 6, 8, 4, 10, 6, 12, 14, 8]\n",
    "\n",
    "# Step 2: Convert the list to a set\n",
    "unique_set = set(original_list)\n",
    "# Now, 'unique_set' contains only unique elements from 'original_list'\n",
    "\n",
    "# Step 3: Convert the set back to a list\n",
    "unique_list = list(unique_set)\n",
    "# Now, 'unique_list' is a list containing only unique elements\n",
    "\n",
    "# Step 4: Print the original list and the list with duplicates removed\n",
    "print(\"Original List:\", original_list)\n",
    "print(\"List with Duplicates Removed:\", unique_list)"
   ]
  },
  {
   "cell_type": "code",
   "execution_count": 94,
   "id": "f8d694a3-9c56-4b6d-bd82-cec777eb9f25",
   "metadata": {},
   "outputs": [],
   "source": [
    "### 44. Check if two sets have the same elements, regardless of their count."
   ]
  },
  {
   "cell_type": "code",
   "execution_count": 95,
   "id": "5fef27a0-da9e-4ac7-b74b-fbc4127cd1e0",
   "metadata": {},
   "outputs": [
    {
     "name": "stdout",
     "output_type": "stream",
     "text": [
      "The sets have the same elements.\n"
     ]
    }
   ],
   "source": [
    "def have_same_elements(set1, set2):\n",
    "    # Convert the sets to lists and sort them\n",
    "    sorted_list1 = sorted(list(set1))\n",
    "    sorted_list2 = sorted(list(set2))\n",
    "\n",
    "    # Compare the sorted lists to check if they are equal\n",
    "    return sorted_list1 == sorted_list2\n",
    "\n",
    "# Example sets\n",
    "set1 = {1, 2, 3, 2, 1}\n",
    "set2 = {3, 1, 2}\n",
    "\n",
    "# Check if the sets have the same elements\n",
    "result = have_same_elements(set1, set2)\n",
    "\n",
    "# Print the result\n",
    "if result:\n",
    "    print(\"The sets have the same elements.\")\n",
    "else:\n",
    "    print(\"The sets do not have the same elements.\")"
   ]
  },
  {
   "cell_type": "code",
   "execution_count": 96,
   "id": "42a6dca6-be17-4d15-82c5-15f7da333e74",
   "metadata": {},
   "outputs": [],
   "source": [
    "### 45. Create a set of the first `n` powers of 2"
   ]
  },
  {
   "cell_type": "code",
   "execution_count": 97,
   "id": "77c6c21e-7577-489a-9ea3-7d647d2011f6",
   "metadata": {},
   "outputs": [
    {
     "name": "stdout",
     "output_type": "stream",
     "text": [
      "{1, 2, 4, 8, 16}\n"
     ]
    }
   ],
   "source": [
    "def generate_powers_of_2(n):\n",
    "    # Initialize an empty set to store the powers of 2\n",
    "    powers_of_2 = set()\n",
    "\n",
    "    # Loop from 0 to n-1\n",
    "    for i in range(n):\n",
    "        # Calculate the current power of 2 using the exponentiation operator **\n",
    "        power = 2 ** i\n",
    "\n",
    "        # Add the current power of 2 to the set\n",
    "        powers_of_2.add(power)\n",
    "\n",
    "    # Return the set of powers of 2\n",
    "    return powers_of_2\n",
    "\n",
    "# Define the value of n\n",
    "n = 5\n",
    "\n",
    "# Call the function to generate the set of powers of 2\n",
    "powers_set = generate_powers_of_2(n)\n",
    "\n",
    "# Print the resulting set\n",
    "print(powers_set)"
   ]
  },
  {
   "cell_type": "code",
   "execution_count": 98,
   "id": "6ba5d96d-b572-468c-bc38-ae7ce2f0ba5a",
   "metadata": {},
   "outputs": [],
   "source": [
    "### 46. Find the common elements between a set and a list."
   ]
  },
  {
   "cell_type": "code",
   "execution_count": 99,
   "id": "51d7386f-d71b-4a63-be11-dac9c98de213",
   "metadata": {},
   "outputs": [
    {
     "name": "stdout",
     "output_type": "stream",
     "text": [
      "Common elements: [7, 9, 12]\n"
     ]
    }
   ],
   "source": [
    "# Step 1: Define a set and a list\n",
    "my_set = {3, 7, 9, 12, 15}\n",
    "my_list = [7, 12, 5, 9]\n",
    "\n",
    "# Step 2: Convert the list to a set for efficient comparison\n",
    "list_to_set = set(my_list)\n",
    "\n",
    "# Step 3: Initialize an empty list to store common elements\n",
    "common_elements = []\n",
    "\n",
    "# Step 4: Iterate through the elements in the set\n",
    "for element in my_set:\n",
    "    # Step 5: Check if the element is present in the converted set (list_to_set)\n",
    "    if element in list_to_set:\n",
    "        # Step 6: If the element is present in both the set and the list, add it to the common_elements list\n",
    "        common_elements.append(element)\n",
    "\n",
    "# Step 7: Print the common elements\n",
    "print(\"Common elements:\", common_elements)"
   ]
  },
  {
   "cell_type": "code",
   "execution_count": null,
   "id": "0a99525c-c31f-4177-9a2c-f95f8f60219e",
   "metadata": {},
   "outputs": [],
   "source": [
    "### 47. Create a set of the first `n` triangular numbers.:\n",
    "\n"
   ]
  },
  {
   "cell_type": "code",
   "execution_count": 102,
   "id": "6bc4b7db-7a55-46a3-bfe5-5a0c1a28629b",
   "metadata": {},
   "outputs": [
    {
     "name": "stdin",
     "output_type": "stream",
     "text": [
      "Enter the value of n:  10\n"
     ]
    },
    {
     "name": "stdout",
     "output_type": "stream",
     "text": [
      "The set of the first 10 triangular numbers is: {1, 3, 36, 6, 10, 45, 15, 21, 55, 28}\n"
     ]
    }
   ],
   "source": [
    "def generate_triangular_numbers(n):\n",
    "    triangular_numbers = set()  # Create an empty set to store the triangular numbers\n",
    "    for i in range(1, n + 1):\n",
    "        triangular_number = i * (i + 1) // 2  # Calculate the ith triangular number using the formula\n",
    "        triangular_numbers.add(triangular_number)  # Add the calculated triangular number to the set\n",
    "    return triangular_numbers\n",
    "\n",
    "# Input the value of 'n'\n",
    "n = int(input(\"Enter the value of n: \"))\n",
    "\n",
    "# Call the function to generate the set of first 'n' triangular numbers\n",
    "triangular_set = generate_triangular_numbers(n)\n",
    "\n",
    "# Display the set of triangular numbers\n",
    "print(f\"The set of the first {n} triangular numbers is:\", triangular_set)"
   ]
  },
  {
   "cell_type": "code",
   "execution_count": 103,
   "id": "f176f63a-f346-4355-87bf-407e42ff884b",
   "metadata": {},
   "outputs": [],
   "source": [
    "### 48. Check if a set contains another set as a subset."
   ]
  },
  {
   "cell_type": "code",
   "execution_count": 104,
   "id": "19e40203-70a2-4140-870b-44b8a94099b9",
   "metadata": {},
   "outputs": [
    {
     "name": "stdout",
     "output_type": "stream",
     "text": [
      "set2 is a subset of set1\n"
     ]
    }
   ],
   "source": [
    "# Define two sets\n",
    "set1 = {1, 2, 3, 4, 5}\n",
    "set2 = {3, 4}\n",
    "\n",
    "# Check if set2 is a subset of set1\n",
    "is_subset = set2.issubset(set1)\n",
    "\n",
    "# Print the result\n",
    "if is_subset:\n",
    "    print(\"set2 is a subset of set1\")\n",
    "else:\n",
    "    print(\"set2 is not a subset of set1\")"
   ]
  },
  {
   "cell_type": "code",
   "execution_count": 105,
   "id": "c3dcf4d3-9657-429a-9985-04b657a4f24c",
   "metadata": {},
   "outputs": [],
   "source": [
    "### 49. Create a set of alternating 1s and 0s of length `n`."
   ]
  },
  {
   "cell_type": "code",
   "execution_count": 106,
   "id": "118b08a0-fb29-4890-b6ea-f982835a7013",
   "metadata": {},
   "outputs": [
    {
     "name": "stdout",
     "output_type": "stream",
     "text": [
      "{0, 1}\n"
     ]
    }
   ],
   "source": [
    "def create_alternating_set(n):\n",
    "    # Initialize an empty set to store the alternating sequence.\n",
    "    alternating_set = set()\n",
    "\n",
    "    # Loop to generate alternating 1s and 0s.\n",
    "    for i in range(n):\n",
    "        # Alternate between adding 1 and 0 to the set based on whether i is even or odd.\n",
    "        if i % 2 == 0:\n",
    "            alternating_set.add(1)  # Add 1 if i is even.\n",
    "        else:\n",
    "            alternating_set.add(0)  # Add 0 if i is odd.\n",
    "\n",
    "    return alternating_set\n",
    "\n",
    "# Define the desired length of the alternating set.\n",
    "length_n = 10\n",
    "\n",
    "# Call the function to create the alternating set of length 'length_n'.\n",
    "result = create_alternating_set(length_n)\n",
    "\n",
    "# Print the resulting set.\n",
    "print(result)"
   ]
  },
  {
   "cell_type": "code",
   "execution_count": null,
   "id": "080d362e-1806-4043-b8f2-3f31e9a5913f",
   "metadata": {},
   "outputs": [],
   "source": [
    "### 50. Merge multiple sets into one."
   ]
  },
  {
   "cell_type": "code",
   "execution_count": 108,
   "id": "800a500f-8b1a-4364-9600-5e7585c9f32c",
   "metadata": {},
   "outputs": [
    {
     "name": "stdout",
     "output_type": "stream",
     "text": [
      "Merged Set: {1, 2, 3, 4, 5, 6, 7}\n"
     ]
    }
   ],
   "source": [
    "set1 = {1, 2, 3}\n",
    "set2 = {3, 4, 5}\n",
    "set3 = {5, 6, 7}\n",
    "merged_set = set1.union(set2, set3)\n",
    "print(\"Merged Set:\", merged_set)"
   ]
  },
  {
   "cell_type": "code",
   "execution_count": null,
   "id": "bb2e134a-6486-4d82-a646-8ae5af274122",
   "metadata": {},
   "outputs": [],
   "source": []
  }
 ],
 "metadata": {
  "kernelspec": {
   "display_name": "Python 3 (ipykernel)",
   "language": "python",
   "name": "python3"
  },
  "language_info": {
   "codemirror_mode": {
    "name": "ipython",
    "version": 3
   },
   "file_extension": ".py",
   "mimetype": "text/x-python",
   "name": "python",
   "nbconvert_exporter": "python",
   "pygments_lexer": "ipython3",
   "version": "3.10.8"
  }
 },
 "nbformat": 4,
 "nbformat_minor": 5
}
